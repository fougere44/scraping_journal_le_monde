{
 "cells": [
  {
   "cell_type": "markdown",
   "metadata": {},
   "source": [
    "# Enoncé du projet : Scraping de données de titres du journal \"Le Monde\" depuis 2018"
   ]
  },
  {
   "cell_type": "markdown",
   "metadata": {},
   "source": [
    "### Utiliser BeautifulSoup\n",
    "\n",
    "Les packages pour scrapper des pages HTML : \n",
    "- [BeautifulSoup4](https://www.crummy.com/software/BeautifulSoup/bs4/doc/) (``pip install bs4``)\n",
    "- [urllib](https://docs.python.org/3/library/urllib.html#module-urllib)"
   ]
  },
  {
   "cell_type": "markdown",
   "metadata": {},
   "source": [
    "Beautiful Soup ci-dessous nous aide à gérer le html et urllib qui permet d’établir une connexion avec la page web"
   ]
  },
  {
   "cell_type": "code",
   "execution_count": 1,
   "metadata": {},
   "outputs": [],
   "source": [
    "#import librairies\n",
    "import requests\n",
    "import bs4\n",
    "from urllib import request\n",
    "import urllib\n",
    "import pandas as pd\n",
    "from bs4 import BeautifulSoup"
   ]
  },
  {
   "cell_type": "markdown",
   "metadata": {},
   "source": [
    "### Il faut Récupérer toutes les url depuis le 1 janvier 2018"
   ]
  },
  {
   "cell_type": "code",
   "execution_count": 2,
   "metadata": {},
   "outputs": [],
   "source": [
    "# Import de la librairie datetime\n",
    "import datetime"
   ]
  },
  {
   "cell_type": "code",
   "execution_count": 3,
   "metadata": {},
   "outputs": [],
   "source": [
    "df_time = pd.date_range(start='01/01/2018', end='11/09/2020')"
   ]
  },
  {
   "cell_type": "code",
   "execution_count": 4,
   "metadata": {},
   "outputs": [
    {
     "data": {
      "text/plain": [
       "\"DatetimeIndex(['2018-01-01', '2018-01-02', '2018-01-03', '2018-01-04',\\n               '2018-01-05', '2018-01-06', '2018-01-07', '2018-01-08',\\n               '2018-01-09', '2018-01-10',\\n               ...\\n               '2020-10-31', '2020-11-01', '2020-11-02', '2020-11-03',\\n               '2020-11-04', '2020-11-05', '2020-11-06', '2020-11-07',\\n               '2020-11-08', '2020-11-09'],\\n              dtype='datetime64[ns]', length=1044, freq='D')\""
      ]
     },
     "execution_count": 4,
     "metadata": {},
     "output_type": "execute_result"
    }
   ],
   "source": [
    "str(df_time)"
   ]
  },
  {
   "cell_type": "markdown",
   "metadata": {},
   "source": [
    "Il faut mettre la date au bon format pour que l'url soit bien lue "
   ]
  },
  {
   "cell_type": "code",
   "execution_count": 5,
   "metadata": {},
   "outputs": [
    {
     "data": {
      "text/plain": [
       "'01/01/2018'"
      ]
     },
     "execution_count": 5,
     "metadata": {},
     "output_type": "execute_result"
    }
   ],
   "source": [
    "a = datetime.datetime.strptime('2018-01-01', '%Y-%m-%d').strftime('%d/%m/%Y')\n",
    "a"
   ]
  },
  {
   "cell_type": "code",
   "execution_count": 6,
   "metadata": {},
   "outputs": [
    {
     "data": {
      "text/plain": [
       "'2018'"
      ]
     },
     "execution_count": 6,
     "metadata": {},
     "output_type": "execute_result"
    }
   ],
   "source": [
    "a.rsplit('/', 1)[-1]"
   ]
  },
  {
   "cell_type": "code",
   "execution_count": 7,
   "metadata": {},
   "outputs": [
    {
     "data": {
      "text/plain": [
       "['01/01/2018', '02/01/2018', '03/01/2018', '04/01/2018', '05/01/2018']"
      ]
     },
     "execution_count": 7,
     "metadata": {},
     "output_type": "execute_result"
    }
   ],
   "source": [
    "# On boucle pour mettre toutes les date du df_time au bon format\n",
    "new_df_time = []\n",
    "\n",
    "for i in df_time:\n",
    "    new_df_time.append(datetime.datetime.strptime(str(i)[:10], '%Y-%m-%d').strftime('%d/%m/%Y'))\n",
    "    \n",
    "\n",
    "new_df_time  [0:5]"
   ]
  },
  {
   "cell_type": "code",
   "execution_count": 8,
   "metadata": {
    "collapsed": true,
    "jupyter": {
     "outputs_hidden": true
    }
   },
   "outputs": [
    {
     "name": "stdout",
     "output_type": "stream",
     "text": [
      "['01-01-2018', '02-01-2018', '03-01-2018', '04-01-2018', '05-01-2018', '06-01-2018', '07-01-2018', '08-01-2018', '09-01-2018', '10-01-2018', '11-01-2018', '12-01-2018', '13-01-2018', '14-01-2018', '15-01-2018', '16-01-2018', '17-01-2018', '18-01-2018', '19-01-2018', '20-01-2018', '21-01-2018', '22-01-2018', '23-01-2018', '24-01-2018', '25-01-2018', '26-01-2018', '27-01-2018', '28-01-2018', '29-01-2018', '30-01-2018', '31-01-2018', '01-02-2018', '02-02-2018', '03-02-2018', '04-02-2018', '05-02-2018', '06-02-2018', '07-02-2018', '08-02-2018', '09-02-2018', '10-02-2018', '11-02-2018', '12-02-2018', '13-02-2018', '14-02-2018', '15-02-2018', '16-02-2018', '17-02-2018', '18-02-2018', '19-02-2018', '20-02-2018', '21-02-2018', '22-02-2018', '23-02-2018', '24-02-2018', '25-02-2018', '26-02-2018', '27-02-2018', '28-02-2018', '01-03-2018', '02-03-2018', '03-03-2018', '04-03-2018', '05-03-2018', '06-03-2018', '07-03-2018', '08-03-2018', '09-03-2018', '10-03-2018', '11-03-2018', '12-03-2018', '13-03-2018', '14-03-2018', '15-03-2018', '16-03-2018', '17-03-2018', '18-03-2018', '19-03-2018', '20-03-2018', '21-03-2018', '22-03-2018', '23-03-2018', '24-03-2018', '25-03-2018', '26-03-2018', '27-03-2018', '28-03-2018', '29-03-2018', '30-03-2018', '31-03-2018', '01-04-2018', '02-04-2018', '03-04-2018', '04-04-2018', '05-04-2018', '06-04-2018', '07-04-2018', '08-04-2018', '09-04-2018', '10-04-2018', '11-04-2018', '12-04-2018', '13-04-2018', '14-04-2018', '15-04-2018', '16-04-2018', '17-04-2018', '18-04-2018', '19-04-2018', '20-04-2018', '21-04-2018', '22-04-2018', '23-04-2018', '24-04-2018', '25-04-2018', '26-04-2018', '27-04-2018', '28-04-2018', '29-04-2018', '30-04-2018', '01-05-2018', '02-05-2018', '03-05-2018', '04-05-2018', '05-05-2018', '06-05-2018', '07-05-2018', '08-05-2018', '09-05-2018', '10-05-2018', '11-05-2018', '12-05-2018', '13-05-2018', '14-05-2018', '15-05-2018', '16-05-2018', '17-05-2018', '18-05-2018', '19-05-2018', '20-05-2018', '21-05-2018', '22-05-2018', '23-05-2018', '24-05-2018', '25-05-2018', '26-05-2018', '27-05-2018', '28-05-2018', '29-05-2018', '30-05-2018', '31-05-2018', '01-06-2018', '02-06-2018', '03-06-2018', '04-06-2018', '05-06-2018', '06-06-2018', '07-06-2018', '08-06-2018', '09-06-2018', '10-06-2018', '11-06-2018', '12-06-2018', '13-06-2018', '14-06-2018', '15-06-2018', '16-06-2018', '17-06-2018', '18-06-2018', '19-06-2018', '20-06-2018', '21-06-2018', '22-06-2018', '23-06-2018', '24-06-2018', '25-06-2018', '26-06-2018', '27-06-2018', '28-06-2018', '29-06-2018', '30-06-2018', '01-07-2018', '02-07-2018', '03-07-2018', '04-07-2018', '05-07-2018', '06-07-2018', '07-07-2018', '08-07-2018', '09-07-2018', '10-07-2018', '11-07-2018', '12-07-2018', '13-07-2018', '14-07-2018', '15-07-2018', '16-07-2018', '17-07-2018', '18-07-2018', '19-07-2018', '20-07-2018', '21-07-2018', '22-07-2018', '23-07-2018', '24-07-2018', '25-07-2018', '26-07-2018', '27-07-2018', '28-07-2018', '29-07-2018', '30-07-2018', '31-07-2018', '01-08-2018', '02-08-2018', '03-08-2018', '04-08-2018', '05-08-2018', '06-08-2018', '07-08-2018', '08-08-2018', '09-08-2018', '10-08-2018', '11-08-2018', '12-08-2018', '13-08-2018', '14-08-2018', '15-08-2018', '16-08-2018', '17-08-2018', '18-08-2018', '19-08-2018', '20-08-2018', '21-08-2018', '22-08-2018', '23-08-2018', '24-08-2018', '25-08-2018', '26-08-2018', '27-08-2018', '28-08-2018', '29-08-2018', '30-08-2018', '31-08-2018', '01-09-2018', '02-09-2018', '03-09-2018', '04-09-2018', '05-09-2018', '06-09-2018', '07-09-2018', '08-09-2018', '09-09-2018', '10-09-2018', '11-09-2018', '12-09-2018', '13-09-2018', '14-09-2018', '15-09-2018', '16-09-2018', '17-09-2018', '18-09-2018', '19-09-2018', '20-09-2018', '21-09-2018', '22-09-2018', '23-09-2018', '24-09-2018', '25-09-2018', '26-09-2018', '27-09-2018', '28-09-2018', '29-09-2018', '30-09-2018', '01-10-2018', '02-10-2018', '03-10-2018', '04-10-2018', '05-10-2018', '06-10-2018', '07-10-2018', '08-10-2018', '09-10-2018', '10-10-2018', '11-10-2018', '12-10-2018', '13-10-2018', '14-10-2018', '15-10-2018', '16-10-2018', '17-10-2018', '18-10-2018', '19-10-2018', '20-10-2018', '21-10-2018', '22-10-2018', '23-10-2018', '24-10-2018', '25-10-2018', '26-10-2018', '27-10-2018', '28-10-2018', '29-10-2018', '30-10-2018', '31-10-2018', '01-11-2018', '02-11-2018', '03-11-2018', '04-11-2018', '05-11-2018', '06-11-2018', '07-11-2018', '08-11-2018', '09-11-2018', '10-11-2018', '11-11-2018', '12-11-2018', '13-11-2018', '14-11-2018', '15-11-2018', '16-11-2018', '17-11-2018', '18-11-2018', '19-11-2018', '20-11-2018', '21-11-2018', '22-11-2018', '23-11-2018', '24-11-2018', '25-11-2018', '26-11-2018', '27-11-2018', '28-11-2018', '29-11-2018', '30-11-2018', '01-12-2018', '02-12-2018', '03-12-2018', '04-12-2018', '05-12-2018', '06-12-2018', '07-12-2018', '08-12-2018', '09-12-2018', '10-12-2018', '11-12-2018', '12-12-2018', '13-12-2018', '14-12-2018', '15-12-2018', '16-12-2018', '17-12-2018', '18-12-2018', '19-12-2018', '20-12-2018', '21-12-2018', '22-12-2018', '23-12-2018', '24-12-2018', '25-12-2018', '26-12-2018', '27-12-2018', '28-12-2018', '29-12-2018', '30-12-2018', '31-12-2018', '01-01-2019', '02-01-2019', '03-01-2019', '04-01-2019', '05-01-2019', '06-01-2019', '07-01-2019', '08-01-2019', '09-01-2019', '10-01-2019', '11-01-2019', '12-01-2019', '13-01-2019', '14-01-2019', '15-01-2019', '16-01-2019', '17-01-2019', '18-01-2019', '19-01-2019', '20-01-2019', '21-01-2019', '22-01-2019', '23-01-2019', '24-01-2019', '25-01-2019', '26-01-2019', '27-01-2019', '28-01-2019', '29-01-2019', '30-01-2019', '31-01-2019', '01-02-2019', '02-02-2019', '03-02-2019', '04-02-2019', '05-02-2019', '06-02-2019', '07-02-2019', '08-02-2019', '09-02-2019', '10-02-2019', '11-02-2019', '12-02-2019', '13-02-2019', '14-02-2019', '15-02-2019', '16-02-2019', '17-02-2019', '18-02-2019', '19-02-2019', '20-02-2019', '21-02-2019', '22-02-2019', '23-02-2019', '24-02-2019', '25-02-2019', '26-02-2019', '27-02-2019', '28-02-2019', '01-03-2019', '02-03-2019', '03-03-2019', '04-03-2019', '05-03-2019', '06-03-2019', '07-03-2019', '08-03-2019', '09-03-2019', '10-03-2019', '11-03-2019', '12-03-2019', '13-03-2019', '14-03-2019', '15-03-2019', '16-03-2019', '17-03-2019', '18-03-2019', '19-03-2019', '20-03-2019', '21-03-2019', '22-03-2019', '23-03-2019', '24-03-2019', '25-03-2019', '26-03-2019', '27-03-2019', '28-03-2019', '29-03-2019', '30-03-2019', '31-03-2019', '01-04-2019', '02-04-2019', '03-04-2019', '04-04-2019', '05-04-2019', '06-04-2019', '07-04-2019', '08-04-2019', '09-04-2019', '10-04-2019', '11-04-2019', '12-04-2019', '13-04-2019', '14-04-2019', '15-04-2019', '16-04-2019', '17-04-2019', '18-04-2019', '19-04-2019', '20-04-2019', '21-04-2019', '22-04-2019', '23-04-2019', '24-04-2019', '25-04-2019', '26-04-2019', '27-04-2019', '28-04-2019', '29-04-2019', '30-04-2019', '01-05-2019', '02-05-2019', '03-05-2019', '04-05-2019', '05-05-2019', '06-05-2019', '07-05-2019', '08-05-2019', '09-05-2019', '10-05-2019', '11-05-2019', '12-05-2019', '13-05-2019', '14-05-2019', '15-05-2019', '16-05-2019', '17-05-2019', '18-05-2019', '19-05-2019', '20-05-2019', '21-05-2019', '22-05-2019', '23-05-2019', '24-05-2019', '25-05-2019', '26-05-2019', '27-05-2019', '28-05-2019', '29-05-2019', '30-05-2019', '31-05-2019', '01-06-2019', '02-06-2019', '03-06-2019', '04-06-2019', '05-06-2019', '06-06-2019', '07-06-2019', '08-06-2019', '09-06-2019', '10-06-2019', '11-06-2019', '12-06-2019', '13-06-2019', '14-06-2019', '15-06-2019', '16-06-2019', '17-06-2019', '18-06-2019', '19-06-2019', '20-06-2019', '21-06-2019', '22-06-2019', '23-06-2019', '24-06-2019', '25-06-2019', '26-06-2019', '27-06-2019', '28-06-2019', '29-06-2019', '30-06-2019', '01-07-2019', '02-07-2019', '03-07-2019', '04-07-2019', '05-07-2019', '06-07-2019', '07-07-2019', '08-07-2019', '09-07-2019', '10-07-2019', '11-07-2019', '12-07-2019', '13-07-2019', '14-07-2019', '15-07-2019', '16-07-2019', '17-07-2019', '18-07-2019', '19-07-2019', '20-07-2019', '21-07-2019', '22-07-2019', '23-07-2019', '24-07-2019', '25-07-2019', '26-07-2019', '27-07-2019', '28-07-2019', '29-07-2019', '30-07-2019', '31-07-2019', '01-08-2019', '02-08-2019', '03-08-2019', '04-08-2019', '05-08-2019', '06-08-2019', '07-08-2019', '08-08-2019', '09-08-2019', '10-08-2019', '11-08-2019', '12-08-2019', '13-08-2019', '14-08-2019', '15-08-2019', '16-08-2019', '17-08-2019', '18-08-2019', '19-08-2019', '20-08-2019', '21-08-2019', '22-08-2019', '23-08-2019', '24-08-2019', '25-08-2019', '26-08-2019', '27-08-2019', '28-08-2019', '29-08-2019', '30-08-2019', '31-08-2019', '01-09-2019', '02-09-2019', '03-09-2019', '04-09-2019', '05-09-2019', '06-09-2019', '07-09-2019', '08-09-2019', '09-09-2019', '10-09-2019', '11-09-2019', '12-09-2019', '13-09-2019', '14-09-2019', '15-09-2019', '16-09-2019', '17-09-2019', '18-09-2019', '19-09-2019', '20-09-2019', '21-09-2019', '22-09-2019', '23-09-2019', '24-09-2019', '25-09-2019', '26-09-2019', '27-09-2019', '28-09-2019', '29-09-2019', '30-09-2019', '01-10-2019', '02-10-2019', '03-10-2019', '04-10-2019', '05-10-2019', '06-10-2019', '07-10-2019', '08-10-2019', '09-10-2019', '10-10-2019', '11-10-2019', '12-10-2019', '13-10-2019', '14-10-2019', '15-10-2019', '16-10-2019', '17-10-2019', '18-10-2019', '19-10-2019', '20-10-2019', '21-10-2019', '22-10-2019', '23-10-2019', '24-10-2019', '25-10-2019', '26-10-2019', '27-10-2019', '28-10-2019', '29-10-2019', '30-10-2019', '31-10-2019', '01-11-2019', '02-11-2019', '03-11-2019', '04-11-2019', '05-11-2019', '06-11-2019', '07-11-2019', '08-11-2019', '09-11-2019', '10-11-2019', '11-11-2019', '12-11-2019', '13-11-2019', '14-11-2019', '15-11-2019', '16-11-2019', '17-11-2019', '18-11-2019', '19-11-2019', '20-11-2019', '21-11-2019', '22-11-2019', '23-11-2019', '24-11-2019', '25-11-2019', '26-11-2019', '27-11-2019', '28-11-2019', '29-11-2019', '30-11-2019', '01-12-2019', '02-12-2019', '03-12-2019', '04-12-2019', '05-12-2019', '06-12-2019', '07-12-2019', '08-12-2019', '09-12-2019', '10-12-2019', '11-12-2019', '12-12-2019', '13-12-2019', '14-12-2019', '15-12-2019', '16-12-2019', '17-12-2019', '18-12-2019', '19-12-2019', '20-12-2019', '21-12-2019', '22-12-2019', '23-12-2019', '24-12-2019', '25-12-2019', '26-12-2019', '27-12-2019', '28-12-2019', '29-12-2019', '30-12-2019', '31-12-2019', '01-01-2020', '02-01-2020', '03-01-2020', '04-01-2020', '05-01-2020', '06-01-2020', '07-01-2020', '08-01-2020', '09-01-2020', '10-01-2020', '11-01-2020', '12-01-2020', '13-01-2020', '14-01-2020', '15-01-2020', '16-01-2020', '17-01-2020', '18-01-2020', '19-01-2020', '20-01-2020', '21-01-2020', '22-01-2020', '23-01-2020', '24-01-2020', '25-01-2020', '26-01-2020', '27-01-2020', '28-01-2020', '29-01-2020', '30-01-2020', '31-01-2020', '01-02-2020', '02-02-2020', '03-02-2020', '04-02-2020', '05-02-2020', '06-02-2020', '07-02-2020', '08-02-2020', '09-02-2020', '10-02-2020', '11-02-2020', '12-02-2020', '13-02-2020', '14-02-2020', '15-02-2020', '16-02-2020', '17-02-2020', '18-02-2020', '19-02-2020', '20-02-2020', '21-02-2020', '22-02-2020', '23-02-2020', '24-02-2020', '25-02-2020', '26-02-2020', '27-02-2020', '28-02-2020', '29-02-2020', '01-03-2020', '02-03-2020', '03-03-2020', '04-03-2020', '05-03-2020', '06-03-2020', '07-03-2020', '08-03-2020', '09-03-2020', '10-03-2020', '11-03-2020', '12-03-2020', '13-03-2020', '14-03-2020', '15-03-2020', '16-03-2020', '17-03-2020', '18-03-2020', '19-03-2020', '20-03-2020', '21-03-2020', '22-03-2020', '23-03-2020', '24-03-2020', '25-03-2020', '26-03-2020', '27-03-2020', '28-03-2020', '29-03-2020', '30-03-2020', '31-03-2020', '01-04-2020', '02-04-2020', '03-04-2020', '04-04-2020', '05-04-2020', '06-04-2020', '07-04-2020', '08-04-2020', '09-04-2020', '10-04-2020', '11-04-2020', '12-04-2020', '13-04-2020', '14-04-2020', '15-04-2020', '16-04-2020', '17-04-2020', '18-04-2020', '19-04-2020', '20-04-2020', '21-04-2020', '22-04-2020', '23-04-2020', '24-04-2020', '25-04-2020', '26-04-2020', '27-04-2020', '28-04-2020', '29-04-2020', '30-04-2020', '01-05-2020', '02-05-2020', '03-05-2020', '04-05-2020', '05-05-2020', '06-05-2020', '07-05-2020', '08-05-2020', '09-05-2020', '10-05-2020', '11-05-2020', '12-05-2020', '13-05-2020', '14-05-2020', '15-05-2020', '16-05-2020', '17-05-2020', '18-05-2020', '19-05-2020', '20-05-2020', '21-05-2020', '22-05-2020', '23-05-2020', '24-05-2020', '25-05-2020', '26-05-2020', '27-05-2020', '28-05-2020', '29-05-2020', '30-05-2020', '31-05-2020', '01-06-2020', '02-06-2020', '03-06-2020', '04-06-2020', '05-06-2020', '06-06-2020', '07-06-2020', '08-06-2020', '09-06-2020', '10-06-2020', '11-06-2020', '12-06-2020', '13-06-2020', '14-06-2020', '15-06-2020', '16-06-2020', '17-06-2020', '18-06-2020', '19-06-2020', '20-06-2020', '21-06-2020', '22-06-2020', '23-06-2020', '24-06-2020', '25-06-2020', '26-06-2020', '27-06-2020', '28-06-2020', '29-06-2020', '30-06-2020', '01-07-2020', '02-07-2020', '03-07-2020', '04-07-2020', '05-07-2020', '06-07-2020', '07-07-2020', '08-07-2020', '09-07-2020', '10-07-2020', '11-07-2020', '12-07-2020', '13-07-2020', '14-07-2020', '15-07-2020', '16-07-2020', '17-07-2020', '18-07-2020', '19-07-2020', '20-07-2020', '21-07-2020', '22-07-2020', '23-07-2020', '24-07-2020', '25-07-2020', '26-07-2020', '27-07-2020', '28-07-2020', '29-07-2020', '30-07-2020', '31-07-2020', '01-08-2020', '02-08-2020', '03-08-2020', '04-08-2020', '05-08-2020', '06-08-2020', '07-08-2020', '08-08-2020', '09-08-2020', '10-08-2020', '11-08-2020', '12-08-2020', '13-08-2020', '14-08-2020', '15-08-2020', '16-08-2020', '17-08-2020', '18-08-2020', '19-08-2020', '20-08-2020', '21-08-2020', '22-08-2020', '23-08-2020', '24-08-2020', '25-08-2020', '26-08-2020', '27-08-2020', '28-08-2020', '29-08-2020', '30-08-2020', '31-08-2020', '01-09-2020', '02-09-2020', '03-09-2020', '04-09-2020', '05-09-2020', '06-09-2020', '07-09-2020', '08-09-2020', '09-09-2020', '10-09-2020', '11-09-2020', '12-09-2020', '13-09-2020', '14-09-2020', '15-09-2020', '16-09-2020', '17-09-2020', '18-09-2020', '19-09-2020', '20-09-2020', '21-09-2020', '22-09-2020', '23-09-2020', '24-09-2020', '25-09-2020', '26-09-2020', '27-09-2020', '28-09-2020', '29-09-2020', '30-09-2020', '01-10-2020', '02-10-2020', '03-10-2020', '04-10-2020', '05-10-2020', '06-10-2020', '07-10-2020', '08-10-2020', '09-10-2020', '10-10-2020', '11-10-2020', '12-10-2020', '13-10-2020', '14-10-2020', '15-10-2020', '16-10-2020', '17-10-2020', '18-10-2020', '19-10-2020', '20-10-2020', '21-10-2020', '22-10-2020', '23-10-2020', '24-10-2020', '25-10-2020', '26-10-2020', '27-10-2020', '28-10-2020', '29-10-2020', '30-10-2020', '31-10-2020', '01-11-2020', '02-11-2020', '03-11-2020', '04-11-2020', '05-11-2020', '06-11-2020', '07-11-2020', '08-11-2020', '09-11-2020']\n"
     ]
    }
   ],
   "source": [
    "i = 0\n",
    "\n",
    "while i != len(new_df_time):\n",
    "    new_df_time[i] = new_df_time[i].replace('/', '-')\n",
    "    #new_df_time[i] = new_df_time[i] + '/'\n",
    "    i +=1\n",
    " \n",
    "    \n",
    "print(new_df_time)"
   ]
  },
  {
   "cell_type": "code",
   "execution_count": 9,
   "metadata": {
    "collapsed": true,
    "jupyter": {
     "outputs_hidden": true
    }
   },
   "outputs": [
    {
     "name": "stdout",
     "output_type": "stream",
     "text": [
      "['https://www.lemonde.fr/archives-du-monde/01-01-2018/', 'https://www.lemonde.fr/archives-du-monde/02-01-2018/', 'https://www.lemonde.fr/archives-du-monde/03-01-2018/', 'https://www.lemonde.fr/archives-du-monde/04-01-2018/', 'https://www.lemonde.fr/archives-du-monde/05-01-2018/', 'https://www.lemonde.fr/archives-du-monde/06-01-2018/', 'https://www.lemonde.fr/archives-du-monde/07-01-2018/', 'https://www.lemonde.fr/archives-du-monde/08-01-2018/', 'https://www.lemonde.fr/archives-du-monde/09-01-2018/', 'https://www.lemonde.fr/archives-du-monde/10-01-2018/', 'https://www.lemonde.fr/archives-du-monde/11-01-2018/', 'https://www.lemonde.fr/archives-du-monde/12-01-2018/', 'https://www.lemonde.fr/archives-du-monde/13-01-2018/', 'https://www.lemonde.fr/archives-du-monde/14-01-2018/', 'https://www.lemonde.fr/archives-du-monde/15-01-2018/', 'https://www.lemonde.fr/archives-du-monde/16-01-2018/', 'https://www.lemonde.fr/archives-du-monde/17-01-2018/', 'https://www.lemonde.fr/archives-du-monde/18-01-2018/', 'https://www.lemonde.fr/archives-du-monde/19-01-2018/', 'https://www.lemonde.fr/archives-du-monde/20-01-2018/', 'https://www.lemonde.fr/archives-du-monde/21-01-2018/', 'https://www.lemonde.fr/archives-du-monde/22-01-2018/', 'https://www.lemonde.fr/archives-du-monde/23-01-2018/', 'https://www.lemonde.fr/archives-du-monde/24-01-2018/', 'https://www.lemonde.fr/archives-du-monde/25-01-2018/', 'https://www.lemonde.fr/archives-du-monde/26-01-2018/', 'https://www.lemonde.fr/archives-du-monde/27-01-2018/', 'https://www.lemonde.fr/archives-du-monde/28-01-2018/', 'https://www.lemonde.fr/archives-du-monde/29-01-2018/', 'https://www.lemonde.fr/archives-du-monde/30-01-2018/', 'https://www.lemonde.fr/archives-du-monde/31-01-2018/', 'https://www.lemonde.fr/archives-du-monde/01-02-2018/', 'https://www.lemonde.fr/archives-du-monde/02-02-2018/', 'https://www.lemonde.fr/archives-du-monde/03-02-2018/', 'https://www.lemonde.fr/archives-du-monde/04-02-2018/', 'https://www.lemonde.fr/archives-du-monde/05-02-2018/', 'https://www.lemonde.fr/archives-du-monde/06-02-2018/', 'https://www.lemonde.fr/archives-du-monde/07-02-2018/', 'https://www.lemonde.fr/archives-du-monde/08-02-2018/', 'https://www.lemonde.fr/archives-du-monde/09-02-2018/', 'https://www.lemonde.fr/archives-du-monde/10-02-2018/', 'https://www.lemonde.fr/archives-du-monde/11-02-2018/', 'https://www.lemonde.fr/archives-du-monde/12-02-2018/', 'https://www.lemonde.fr/archives-du-monde/13-02-2018/', 'https://www.lemonde.fr/archives-du-monde/14-02-2018/', 'https://www.lemonde.fr/archives-du-monde/15-02-2018/', 'https://www.lemonde.fr/archives-du-monde/16-02-2018/', 'https://www.lemonde.fr/archives-du-monde/17-02-2018/', 'https://www.lemonde.fr/archives-du-monde/18-02-2018/', 'https://www.lemonde.fr/archives-du-monde/19-02-2018/', 'https://www.lemonde.fr/archives-du-monde/20-02-2018/', 'https://www.lemonde.fr/archives-du-monde/21-02-2018/', 'https://www.lemonde.fr/archives-du-monde/22-02-2018/', 'https://www.lemonde.fr/archives-du-monde/23-02-2018/', 'https://www.lemonde.fr/archives-du-monde/24-02-2018/', 'https://www.lemonde.fr/archives-du-monde/25-02-2018/', 'https://www.lemonde.fr/archives-du-monde/26-02-2018/', 'https://www.lemonde.fr/archives-du-monde/27-02-2018/', 'https://www.lemonde.fr/archives-du-monde/28-02-2018/', 'https://www.lemonde.fr/archives-du-monde/01-03-2018/', 'https://www.lemonde.fr/archives-du-monde/02-03-2018/', 'https://www.lemonde.fr/archives-du-monde/03-03-2018/', 'https://www.lemonde.fr/archives-du-monde/04-03-2018/', 'https://www.lemonde.fr/archives-du-monde/05-03-2018/', 'https://www.lemonde.fr/archives-du-monde/06-03-2018/', 'https://www.lemonde.fr/archives-du-monde/07-03-2018/', 'https://www.lemonde.fr/archives-du-monde/08-03-2018/', 'https://www.lemonde.fr/archives-du-monde/09-03-2018/', 'https://www.lemonde.fr/archives-du-monde/10-03-2018/', 'https://www.lemonde.fr/archives-du-monde/11-03-2018/', 'https://www.lemonde.fr/archives-du-monde/12-03-2018/', 'https://www.lemonde.fr/archives-du-monde/13-03-2018/', 'https://www.lemonde.fr/archives-du-monde/14-03-2018/', 'https://www.lemonde.fr/archives-du-monde/15-03-2018/', 'https://www.lemonde.fr/archives-du-monde/16-03-2018/', 'https://www.lemonde.fr/archives-du-monde/17-03-2018/', 'https://www.lemonde.fr/archives-du-monde/18-03-2018/', 'https://www.lemonde.fr/archives-du-monde/19-03-2018/', 'https://www.lemonde.fr/archives-du-monde/20-03-2018/', 'https://www.lemonde.fr/archives-du-monde/21-03-2018/', 'https://www.lemonde.fr/archives-du-monde/22-03-2018/', 'https://www.lemonde.fr/archives-du-monde/23-03-2018/', 'https://www.lemonde.fr/archives-du-monde/24-03-2018/', 'https://www.lemonde.fr/archives-du-monde/25-03-2018/', 'https://www.lemonde.fr/archives-du-monde/26-03-2018/', 'https://www.lemonde.fr/archives-du-monde/27-03-2018/', 'https://www.lemonde.fr/archives-du-monde/28-03-2018/', 'https://www.lemonde.fr/archives-du-monde/29-03-2018/', 'https://www.lemonde.fr/archives-du-monde/30-03-2018/', 'https://www.lemonde.fr/archives-du-monde/31-03-2018/', 'https://www.lemonde.fr/archives-du-monde/01-04-2018/', 'https://www.lemonde.fr/archives-du-monde/02-04-2018/', 'https://www.lemonde.fr/archives-du-monde/03-04-2018/', 'https://www.lemonde.fr/archives-du-monde/04-04-2018/', 'https://www.lemonde.fr/archives-du-monde/05-04-2018/', 'https://www.lemonde.fr/archives-du-monde/06-04-2018/', 'https://www.lemonde.fr/archives-du-monde/07-04-2018/', 'https://www.lemonde.fr/archives-du-monde/08-04-2018/', 'https://www.lemonde.fr/archives-du-monde/09-04-2018/', 'https://www.lemonde.fr/archives-du-monde/10-04-2018/', 'https://www.lemonde.fr/archives-du-monde/11-04-2018/', 'https://www.lemonde.fr/archives-du-monde/12-04-2018/', 'https://www.lemonde.fr/archives-du-monde/13-04-2018/', 'https://www.lemonde.fr/archives-du-monde/14-04-2018/', 'https://www.lemonde.fr/archives-du-monde/15-04-2018/', 'https://www.lemonde.fr/archives-du-monde/16-04-2018/', 'https://www.lemonde.fr/archives-du-monde/17-04-2018/', 'https://www.lemonde.fr/archives-du-monde/18-04-2018/', 'https://www.lemonde.fr/archives-du-monde/19-04-2018/', 'https://www.lemonde.fr/archives-du-monde/20-04-2018/', 'https://www.lemonde.fr/archives-du-monde/21-04-2018/', 'https://www.lemonde.fr/archives-du-monde/22-04-2018/', 'https://www.lemonde.fr/archives-du-monde/23-04-2018/', 'https://www.lemonde.fr/archives-du-monde/24-04-2018/', 'https://www.lemonde.fr/archives-du-monde/25-04-2018/', 'https://www.lemonde.fr/archives-du-monde/26-04-2018/', 'https://www.lemonde.fr/archives-du-monde/27-04-2018/', 'https://www.lemonde.fr/archives-du-monde/28-04-2018/', 'https://www.lemonde.fr/archives-du-monde/29-04-2018/', 'https://www.lemonde.fr/archives-du-monde/30-04-2018/', 'https://www.lemonde.fr/archives-du-monde/01-05-2018/', 'https://www.lemonde.fr/archives-du-monde/02-05-2018/', 'https://www.lemonde.fr/archives-du-monde/03-05-2018/', 'https://www.lemonde.fr/archives-du-monde/04-05-2018/', 'https://www.lemonde.fr/archives-du-monde/05-05-2018/', 'https://www.lemonde.fr/archives-du-monde/06-05-2018/', 'https://www.lemonde.fr/archives-du-monde/07-05-2018/', 'https://www.lemonde.fr/archives-du-monde/08-05-2018/', 'https://www.lemonde.fr/archives-du-monde/09-05-2018/', 'https://www.lemonde.fr/archives-du-monde/10-05-2018/', 'https://www.lemonde.fr/archives-du-monde/11-05-2018/', 'https://www.lemonde.fr/archives-du-monde/12-05-2018/', 'https://www.lemonde.fr/archives-du-monde/13-05-2018/', 'https://www.lemonde.fr/archives-du-monde/14-05-2018/', 'https://www.lemonde.fr/archives-du-monde/15-05-2018/', 'https://www.lemonde.fr/archives-du-monde/16-05-2018/', 'https://www.lemonde.fr/archives-du-monde/17-05-2018/', 'https://www.lemonde.fr/archives-du-monde/18-05-2018/', 'https://www.lemonde.fr/archives-du-monde/19-05-2018/', 'https://www.lemonde.fr/archives-du-monde/20-05-2018/', 'https://www.lemonde.fr/archives-du-monde/21-05-2018/', 'https://www.lemonde.fr/archives-du-monde/22-05-2018/', 'https://www.lemonde.fr/archives-du-monde/23-05-2018/', 'https://www.lemonde.fr/archives-du-monde/24-05-2018/', 'https://www.lemonde.fr/archives-du-monde/25-05-2018/', 'https://www.lemonde.fr/archives-du-monde/26-05-2018/', 'https://www.lemonde.fr/archives-du-monde/27-05-2018/', 'https://www.lemonde.fr/archives-du-monde/28-05-2018/', 'https://www.lemonde.fr/archives-du-monde/29-05-2018/', 'https://www.lemonde.fr/archives-du-monde/30-05-2018/', 'https://www.lemonde.fr/archives-du-monde/31-05-2018/', 'https://www.lemonde.fr/archives-du-monde/01-06-2018/', 'https://www.lemonde.fr/archives-du-monde/02-06-2018/', 'https://www.lemonde.fr/archives-du-monde/03-06-2018/', 'https://www.lemonde.fr/archives-du-monde/04-06-2018/', 'https://www.lemonde.fr/archives-du-monde/05-06-2018/', 'https://www.lemonde.fr/archives-du-monde/06-06-2018/', 'https://www.lemonde.fr/archives-du-monde/07-06-2018/', 'https://www.lemonde.fr/archives-du-monde/08-06-2018/', 'https://www.lemonde.fr/archives-du-monde/09-06-2018/', 'https://www.lemonde.fr/archives-du-monde/10-06-2018/', 'https://www.lemonde.fr/archives-du-monde/11-06-2018/', 'https://www.lemonde.fr/archives-du-monde/12-06-2018/', 'https://www.lemonde.fr/archives-du-monde/13-06-2018/', 'https://www.lemonde.fr/archives-du-monde/14-06-2018/', 'https://www.lemonde.fr/archives-du-monde/15-06-2018/', 'https://www.lemonde.fr/archives-du-monde/16-06-2018/', 'https://www.lemonde.fr/archives-du-monde/17-06-2018/', 'https://www.lemonde.fr/archives-du-monde/18-06-2018/', 'https://www.lemonde.fr/archives-du-monde/19-06-2018/', 'https://www.lemonde.fr/archives-du-monde/20-06-2018/', 'https://www.lemonde.fr/archives-du-monde/21-06-2018/', 'https://www.lemonde.fr/archives-du-monde/22-06-2018/', 'https://www.lemonde.fr/archives-du-monde/23-06-2018/', 'https://www.lemonde.fr/archives-du-monde/24-06-2018/', 'https://www.lemonde.fr/archives-du-monde/25-06-2018/', 'https://www.lemonde.fr/archives-du-monde/26-06-2018/', 'https://www.lemonde.fr/archives-du-monde/27-06-2018/', 'https://www.lemonde.fr/archives-du-monde/28-06-2018/', 'https://www.lemonde.fr/archives-du-monde/29-06-2018/', 'https://www.lemonde.fr/archives-du-monde/30-06-2018/', 'https://www.lemonde.fr/archives-du-monde/01-07-2018/', 'https://www.lemonde.fr/archives-du-monde/02-07-2018/', 'https://www.lemonde.fr/archives-du-monde/03-07-2018/', 'https://www.lemonde.fr/archives-du-monde/04-07-2018/', 'https://www.lemonde.fr/archives-du-monde/05-07-2018/', 'https://www.lemonde.fr/archives-du-monde/06-07-2018/', 'https://www.lemonde.fr/archives-du-monde/07-07-2018/', 'https://www.lemonde.fr/archives-du-monde/08-07-2018/', 'https://www.lemonde.fr/archives-du-monde/09-07-2018/', 'https://www.lemonde.fr/archives-du-monde/10-07-2018/', 'https://www.lemonde.fr/archives-du-monde/11-07-2018/', 'https://www.lemonde.fr/archives-du-monde/12-07-2018/', 'https://www.lemonde.fr/archives-du-monde/13-07-2018/', 'https://www.lemonde.fr/archives-du-monde/14-07-2018/', 'https://www.lemonde.fr/archives-du-monde/15-07-2018/', 'https://www.lemonde.fr/archives-du-monde/16-07-2018/', 'https://www.lemonde.fr/archives-du-monde/17-07-2018/', 'https://www.lemonde.fr/archives-du-monde/18-07-2018/', 'https://www.lemonde.fr/archives-du-monde/19-07-2018/', 'https://www.lemonde.fr/archives-du-monde/20-07-2018/', 'https://www.lemonde.fr/archives-du-monde/21-07-2018/', 'https://www.lemonde.fr/archives-du-monde/22-07-2018/', 'https://www.lemonde.fr/archives-du-monde/23-07-2018/', 'https://www.lemonde.fr/archives-du-monde/24-07-2018/', 'https://www.lemonde.fr/archives-du-monde/25-07-2018/', 'https://www.lemonde.fr/archives-du-monde/26-07-2018/', 'https://www.lemonde.fr/archives-du-monde/27-07-2018/', 'https://www.lemonde.fr/archives-du-monde/28-07-2018/', 'https://www.lemonde.fr/archives-du-monde/29-07-2018/', 'https://www.lemonde.fr/archives-du-monde/30-07-2018/', 'https://www.lemonde.fr/archives-du-monde/31-07-2018/', 'https://www.lemonde.fr/archives-du-monde/01-08-2018/', 'https://www.lemonde.fr/archives-du-monde/02-08-2018/', 'https://www.lemonde.fr/archives-du-monde/03-08-2018/', 'https://www.lemonde.fr/archives-du-monde/04-08-2018/', 'https://www.lemonde.fr/archives-du-monde/05-08-2018/', 'https://www.lemonde.fr/archives-du-monde/06-08-2018/', 'https://www.lemonde.fr/archives-du-monde/07-08-2018/', 'https://www.lemonde.fr/archives-du-monde/08-08-2018/', 'https://www.lemonde.fr/archives-du-monde/09-08-2018/', 'https://www.lemonde.fr/archives-du-monde/10-08-2018/', 'https://www.lemonde.fr/archives-du-monde/11-08-2018/', 'https://www.lemonde.fr/archives-du-monde/12-08-2018/', 'https://www.lemonde.fr/archives-du-monde/13-08-2018/', 'https://www.lemonde.fr/archives-du-monde/14-08-2018/', 'https://www.lemonde.fr/archives-du-monde/15-08-2018/', 'https://www.lemonde.fr/archives-du-monde/16-08-2018/', 'https://www.lemonde.fr/archives-du-monde/17-08-2018/', 'https://www.lemonde.fr/archives-du-monde/18-08-2018/', 'https://www.lemonde.fr/archives-du-monde/19-08-2018/', 'https://www.lemonde.fr/archives-du-monde/20-08-2018/', 'https://www.lemonde.fr/archives-du-monde/21-08-2018/', 'https://www.lemonde.fr/archives-du-monde/22-08-2018/', 'https://www.lemonde.fr/archives-du-monde/23-08-2018/', 'https://www.lemonde.fr/archives-du-monde/24-08-2018/', 'https://www.lemonde.fr/archives-du-monde/25-08-2018/', 'https://www.lemonde.fr/archives-du-monde/26-08-2018/', 'https://www.lemonde.fr/archives-du-monde/27-08-2018/', 'https://www.lemonde.fr/archives-du-monde/28-08-2018/', 'https://www.lemonde.fr/archives-du-monde/29-08-2018/', 'https://www.lemonde.fr/archives-du-monde/30-08-2018/', 'https://www.lemonde.fr/archives-du-monde/31-08-2018/', 'https://www.lemonde.fr/archives-du-monde/01-09-2018/', 'https://www.lemonde.fr/archives-du-monde/02-09-2018/', 'https://www.lemonde.fr/archives-du-monde/03-09-2018/', 'https://www.lemonde.fr/archives-du-monde/04-09-2018/', 'https://www.lemonde.fr/archives-du-monde/05-09-2018/', 'https://www.lemonde.fr/archives-du-monde/06-09-2018/', 'https://www.lemonde.fr/archives-du-monde/07-09-2018/', 'https://www.lemonde.fr/archives-du-monde/08-09-2018/', 'https://www.lemonde.fr/archives-du-monde/09-09-2018/', 'https://www.lemonde.fr/archives-du-monde/10-09-2018/', 'https://www.lemonde.fr/archives-du-monde/11-09-2018/', 'https://www.lemonde.fr/archives-du-monde/12-09-2018/', 'https://www.lemonde.fr/archives-du-monde/13-09-2018/', 'https://www.lemonde.fr/archives-du-monde/14-09-2018/', 'https://www.lemonde.fr/archives-du-monde/15-09-2018/', 'https://www.lemonde.fr/archives-du-monde/16-09-2018/', 'https://www.lemonde.fr/archives-du-monde/17-09-2018/', 'https://www.lemonde.fr/archives-du-monde/18-09-2018/', 'https://www.lemonde.fr/archives-du-monde/19-09-2018/', 'https://www.lemonde.fr/archives-du-monde/20-09-2018/', 'https://www.lemonde.fr/archives-du-monde/21-09-2018/', 'https://www.lemonde.fr/archives-du-monde/22-09-2018/', 'https://www.lemonde.fr/archives-du-monde/23-09-2018/', 'https://www.lemonde.fr/archives-du-monde/24-09-2018/', 'https://www.lemonde.fr/archives-du-monde/25-09-2018/', 'https://www.lemonde.fr/archives-du-monde/26-09-2018/', 'https://www.lemonde.fr/archives-du-monde/27-09-2018/', 'https://www.lemonde.fr/archives-du-monde/28-09-2018/', 'https://www.lemonde.fr/archives-du-monde/29-09-2018/', 'https://www.lemonde.fr/archives-du-monde/30-09-2018/', 'https://www.lemonde.fr/archives-du-monde/01-10-2018/', 'https://www.lemonde.fr/archives-du-monde/02-10-2018/', 'https://www.lemonde.fr/archives-du-monde/03-10-2018/', 'https://www.lemonde.fr/archives-du-monde/04-10-2018/', 'https://www.lemonde.fr/archives-du-monde/05-10-2018/', 'https://www.lemonde.fr/archives-du-monde/06-10-2018/', 'https://www.lemonde.fr/archives-du-monde/07-10-2018/', 'https://www.lemonde.fr/archives-du-monde/08-10-2018/', 'https://www.lemonde.fr/archives-du-monde/09-10-2018/', 'https://www.lemonde.fr/archives-du-monde/10-10-2018/', 'https://www.lemonde.fr/archives-du-monde/11-10-2018/', 'https://www.lemonde.fr/archives-du-monde/12-10-2018/', 'https://www.lemonde.fr/archives-du-monde/13-10-2018/', 'https://www.lemonde.fr/archives-du-monde/14-10-2018/', 'https://www.lemonde.fr/archives-du-monde/15-10-2018/', 'https://www.lemonde.fr/archives-du-monde/16-10-2018/', 'https://www.lemonde.fr/archives-du-monde/17-10-2018/', 'https://www.lemonde.fr/archives-du-monde/18-10-2018/', 'https://www.lemonde.fr/archives-du-monde/19-10-2018/', 'https://www.lemonde.fr/archives-du-monde/20-10-2018/', 'https://www.lemonde.fr/archives-du-monde/21-10-2018/', 'https://www.lemonde.fr/archives-du-monde/22-10-2018/', 'https://www.lemonde.fr/archives-du-monde/23-10-2018/', 'https://www.lemonde.fr/archives-du-monde/24-10-2018/', 'https://www.lemonde.fr/archives-du-monde/25-10-2018/', 'https://www.lemonde.fr/archives-du-monde/26-10-2018/', 'https://www.lemonde.fr/archives-du-monde/27-10-2018/', 'https://www.lemonde.fr/archives-du-monde/28-10-2018/', 'https://www.lemonde.fr/archives-du-monde/29-10-2018/', 'https://www.lemonde.fr/archives-du-monde/30-10-2018/', 'https://www.lemonde.fr/archives-du-monde/31-10-2018/', 'https://www.lemonde.fr/archives-du-monde/01-11-2018/', 'https://www.lemonde.fr/archives-du-monde/02-11-2018/', 'https://www.lemonde.fr/archives-du-monde/03-11-2018/', 'https://www.lemonde.fr/archives-du-monde/04-11-2018/', 'https://www.lemonde.fr/archives-du-monde/05-11-2018/', 'https://www.lemonde.fr/archives-du-monde/06-11-2018/', 'https://www.lemonde.fr/archives-du-monde/07-11-2018/', 'https://www.lemonde.fr/archives-du-monde/08-11-2018/', 'https://www.lemonde.fr/archives-du-monde/09-11-2018/', 'https://www.lemonde.fr/archives-du-monde/10-11-2018/', 'https://www.lemonde.fr/archives-du-monde/11-11-2018/', 'https://www.lemonde.fr/archives-du-monde/12-11-2018/', 'https://www.lemonde.fr/archives-du-monde/13-11-2018/', 'https://www.lemonde.fr/archives-du-monde/14-11-2018/', 'https://www.lemonde.fr/archives-du-monde/15-11-2018/', 'https://www.lemonde.fr/archives-du-monde/16-11-2018/', 'https://www.lemonde.fr/archives-du-monde/17-11-2018/', 'https://www.lemonde.fr/archives-du-monde/18-11-2018/', 'https://www.lemonde.fr/archives-du-monde/19-11-2018/', 'https://www.lemonde.fr/archives-du-monde/20-11-2018/', 'https://www.lemonde.fr/archives-du-monde/21-11-2018/', 'https://www.lemonde.fr/archives-du-monde/22-11-2018/', 'https://www.lemonde.fr/archives-du-monde/23-11-2018/', 'https://www.lemonde.fr/archives-du-monde/24-11-2018/', 'https://www.lemonde.fr/archives-du-monde/25-11-2018/', 'https://www.lemonde.fr/archives-du-monde/26-11-2018/', 'https://www.lemonde.fr/archives-du-monde/27-11-2018/', 'https://www.lemonde.fr/archives-du-monde/28-11-2018/', 'https://www.lemonde.fr/archives-du-monde/29-11-2018/', 'https://www.lemonde.fr/archives-du-monde/30-11-2018/', 'https://www.lemonde.fr/archives-du-monde/01-12-2018/', 'https://www.lemonde.fr/archives-du-monde/02-12-2018/', 'https://www.lemonde.fr/archives-du-monde/03-12-2018/', 'https://www.lemonde.fr/archives-du-monde/04-12-2018/', 'https://www.lemonde.fr/archives-du-monde/05-12-2018/', 'https://www.lemonde.fr/archives-du-monde/06-12-2018/', 'https://www.lemonde.fr/archives-du-monde/07-12-2018/', 'https://www.lemonde.fr/archives-du-monde/08-12-2018/', 'https://www.lemonde.fr/archives-du-monde/09-12-2018/', 'https://www.lemonde.fr/archives-du-monde/10-12-2018/', 'https://www.lemonde.fr/archives-du-monde/11-12-2018/', 'https://www.lemonde.fr/archives-du-monde/12-12-2018/', 'https://www.lemonde.fr/archives-du-monde/13-12-2018/', 'https://www.lemonde.fr/archives-du-monde/14-12-2018/', 'https://www.lemonde.fr/archives-du-monde/15-12-2018/', 'https://www.lemonde.fr/archives-du-monde/16-12-2018/', 'https://www.lemonde.fr/archives-du-monde/17-12-2018/', 'https://www.lemonde.fr/archives-du-monde/18-12-2018/', 'https://www.lemonde.fr/archives-du-monde/19-12-2018/', 'https://www.lemonde.fr/archives-du-monde/20-12-2018/', 'https://www.lemonde.fr/archives-du-monde/21-12-2018/', 'https://www.lemonde.fr/archives-du-monde/22-12-2018/', 'https://www.lemonde.fr/archives-du-monde/23-12-2018/', 'https://www.lemonde.fr/archives-du-monde/24-12-2018/', 'https://www.lemonde.fr/archives-du-monde/25-12-2018/', 'https://www.lemonde.fr/archives-du-monde/26-12-2018/', 'https://www.lemonde.fr/archives-du-monde/27-12-2018/', 'https://www.lemonde.fr/archives-du-monde/28-12-2018/', 'https://www.lemonde.fr/archives-du-monde/29-12-2018/', 'https://www.lemonde.fr/archives-du-monde/30-12-2018/', 'https://www.lemonde.fr/archives-du-monde/31-12-2018/', 'https://www.lemonde.fr/archives-du-monde/01-01-2019/', 'https://www.lemonde.fr/archives-du-monde/02-01-2019/', 'https://www.lemonde.fr/archives-du-monde/03-01-2019/', 'https://www.lemonde.fr/archives-du-monde/04-01-2019/', 'https://www.lemonde.fr/archives-du-monde/05-01-2019/', 'https://www.lemonde.fr/archives-du-monde/06-01-2019/', 'https://www.lemonde.fr/archives-du-monde/07-01-2019/', 'https://www.lemonde.fr/archives-du-monde/08-01-2019/', 'https://www.lemonde.fr/archives-du-monde/09-01-2019/', 'https://www.lemonde.fr/archives-du-monde/10-01-2019/', 'https://www.lemonde.fr/archives-du-monde/11-01-2019/', 'https://www.lemonde.fr/archives-du-monde/12-01-2019/', 'https://www.lemonde.fr/archives-du-monde/13-01-2019/', 'https://www.lemonde.fr/archives-du-monde/14-01-2019/', 'https://www.lemonde.fr/archives-du-monde/15-01-2019/', 'https://www.lemonde.fr/archives-du-monde/16-01-2019/', 'https://www.lemonde.fr/archives-du-monde/17-01-2019/', 'https://www.lemonde.fr/archives-du-monde/18-01-2019/', 'https://www.lemonde.fr/archives-du-monde/19-01-2019/', 'https://www.lemonde.fr/archives-du-monde/20-01-2019/', 'https://www.lemonde.fr/archives-du-monde/21-01-2019/', 'https://www.lemonde.fr/archives-du-monde/22-01-2019/', 'https://www.lemonde.fr/archives-du-monde/23-01-2019/', 'https://www.lemonde.fr/archives-du-monde/24-01-2019/', 'https://www.lemonde.fr/archives-du-monde/25-01-2019/', 'https://www.lemonde.fr/archives-du-monde/26-01-2019/', 'https://www.lemonde.fr/archives-du-monde/27-01-2019/', 'https://www.lemonde.fr/archives-du-monde/28-01-2019/', 'https://www.lemonde.fr/archives-du-monde/29-01-2019/', 'https://www.lemonde.fr/archives-du-monde/30-01-2019/', 'https://www.lemonde.fr/archives-du-monde/31-01-2019/', 'https://www.lemonde.fr/archives-du-monde/01-02-2019/', 'https://www.lemonde.fr/archives-du-monde/02-02-2019/', 'https://www.lemonde.fr/archives-du-monde/03-02-2019/', 'https://www.lemonde.fr/archives-du-monde/04-02-2019/', 'https://www.lemonde.fr/archives-du-monde/05-02-2019/', 'https://www.lemonde.fr/archives-du-monde/06-02-2019/', 'https://www.lemonde.fr/archives-du-monde/07-02-2019/', 'https://www.lemonde.fr/archives-du-monde/08-02-2019/', 'https://www.lemonde.fr/archives-du-monde/09-02-2019/', 'https://www.lemonde.fr/archives-du-monde/10-02-2019/', 'https://www.lemonde.fr/archives-du-monde/11-02-2019/', 'https://www.lemonde.fr/archives-du-monde/12-02-2019/', 'https://www.lemonde.fr/archives-du-monde/13-02-2019/', 'https://www.lemonde.fr/archives-du-monde/14-02-2019/', 'https://www.lemonde.fr/archives-du-monde/15-02-2019/', 'https://www.lemonde.fr/archives-du-monde/16-02-2019/', 'https://www.lemonde.fr/archives-du-monde/17-02-2019/', 'https://www.lemonde.fr/archives-du-monde/18-02-2019/', 'https://www.lemonde.fr/archives-du-monde/19-02-2019/', 'https://www.lemonde.fr/archives-du-monde/20-02-2019/', 'https://www.lemonde.fr/archives-du-monde/21-02-2019/', 'https://www.lemonde.fr/archives-du-monde/22-02-2019/', 'https://www.lemonde.fr/archives-du-monde/23-02-2019/', 'https://www.lemonde.fr/archives-du-monde/24-02-2019/', 'https://www.lemonde.fr/archives-du-monde/25-02-2019/', 'https://www.lemonde.fr/archives-du-monde/26-02-2019/', 'https://www.lemonde.fr/archives-du-monde/27-02-2019/', 'https://www.lemonde.fr/archives-du-monde/28-02-2019/', 'https://www.lemonde.fr/archives-du-monde/01-03-2019/', 'https://www.lemonde.fr/archives-du-monde/02-03-2019/', 'https://www.lemonde.fr/archives-du-monde/03-03-2019/', 'https://www.lemonde.fr/archives-du-monde/04-03-2019/', 'https://www.lemonde.fr/archives-du-monde/05-03-2019/', 'https://www.lemonde.fr/archives-du-monde/06-03-2019/', 'https://www.lemonde.fr/archives-du-monde/07-03-2019/', 'https://www.lemonde.fr/archives-du-monde/08-03-2019/', 'https://www.lemonde.fr/archives-du-monde/09-03-2019/', 'https://www.lemonde.fr/archives-du-monde/10-03-2019/', 'https://www.lemonde.fr/archives-du-monde/11-03-2019/', 'https://www.lemonde.fr/archives-du-monde/12-03-2019/', 'https://www.lemonde.fr/archives-du-monde/13-03-2019/', 'https://www.lemonde.fr/archives-du-monde/14-03-2019/', 'https://www.lemonde.fr/archives-du-monde/15-03-2019/', 'https://www.lemonde.fr/archives-du-monde/16-03-2019/', 'https://www.lemonde.fr/archives-du-monde/17-03-2019/', 'https://www.lemonde.fr/archives-du-monde/18-03-2019/', 'https://www.lemonde.fr/archives-du-monde/19-03-2019/', 'https://www.lemonde.fr/archives-du-monde/20-03-2019/', 'https://www.lemonde.fr/archives-du-monde/21-03-2019/', 'https://www.lemonde.fr/archives-du-monde/22-03-2019/', 'https://www.lemonde.fr/archives-du-monde/23-03-2019/', 'https://www.lemonde.fr/archives-du-monde/24-03-2019/', 'https://www.lemonde.fr/archives-du-monde/25-03-2019/', 'https://www.lemonde.fr/archives-du-monde/26-03-2019/', 'https://www.lemonde.fr/archives-du-monde/27-03-2019/', 'https://www.lemonde.fr/archives-du-monde/28-03-2019/', 'https://www.lemonde.fr/archives-du-monde/29-03-2019/', 'https://www.lemonde.fr/archives-du-monde/30-03-2019/', 'https://www.lemonde.fr/archives-du-monde/31-03-2019/', 'https://www.lemonde.fr/archives-du-monde/01-04-2019/', 'https://www.lemonde.fr/archives-du-monde/02-04-2019/', 'https://www.lemonde.fr/archives-du-monde/03-04-2019/', 'https://www.lemonde.fr/archives-du-monde/04-04-2019/', 'https://www.lemonde.fr/archives-du-monde/05-04-2019/', 'https://www.lemonde.fr/archives-du-monde/06-04-2019/', 'https://www.lemonde.fr/archives-du-monde/07-04-2019/', 'https://www.lemonde.fr/archives-du-monde/08-04-2019/', 'https://www.lemonde.fr/archives-du-monde/09-04-2019/', 'https://www.lemonde.fr/archives-du-monde/10-04-2019/', 'https://www.lemonde.fr/archives-du-monde/11-04-2019/', 'https://www.lemonde.fr/archives-du-monde/12-04-2019/', 'https://www.lemonde.fr/archives-du-monde/13-04-2019/', 'https://www.lemonde.fr/archives-du-monde/14-04-2019/', 'https://www.lemonde.fr/archives-du-monde/15-04-2019/', 'https://www.lemonde.fr/archives-du-monde/16-04-2019/', 'https://www.lemonde.fr/archives-du-monde/17-04-2019/', 'https://www.lemonde.fr/archives-du-monde/18-04-2019/', 'https://www.lemonde.fr/archives-du-monde/19-04-2019/', 'https://www.lemonde.fr/archives-du-monde/20-04-2019/', 'https://www.lemonde.fr/archives-du-monde/21-04-2019/', 'https://www.lemonde.fr/archives-du-monde/22-04-2019/', 'https://www.lemonde.fr/archives-du-monde/23-04-2019/', 'https://www.lemonde.fr/archives-du-monde/24-04-2019/', 'https://www.lemonde.fr/archives-du-monde/25-04-2019/', 'https://www.lemonde.fr/archives-du-monde/26-04-2019/', 'https://www.lemonde.fr/archives-du-monde/27-04-2019/', 'https://www.lemonde.fr/archives-du-monde/28-04-2019/', 'https://www.lemonde.fr/archives-du-monde/29-04-2019/', 'https://www.lemonde.fr/archives-du-monde/30-04-2019/', 'https://www.lemonde.fr/archives-du-monde/01-05-2019/', 'https://www.lemonde.fr/archives-du-monde/02-05-2019/', 'https://www.lemonde.fr/archives-du-monde/03-05-2019/', 'https://www.lemonde.fr/archives-du-monde/04-05-2019/', 'https://www.lemonde.fr/archives-du-monde/05-05-2019/', 'https://www.lemonde.fr/archives-du-monde/06-05-2019/', 'https://www.lemonde.fr/archives-du-monde/07-05-2019/', 'https://www.lemonde.fr/archives-du-monde/08-05-2019/', 'https://www.lemonde.fr/archives-du-monde/09-05-2019/', 'https://www.lemonde.fr/archives-du-monde/10-05-2019/', 'https://www.lemonde.fr/archives-du-monde/11-05-2019/', 'https://www.lemonde.fr/archives-du-monde/12-05-2019/', 'https://www.lemonde.fr/archives-du-monde/13-05-2019/', 'https://www.lemonde.fr/archives-du-monde/14-05-2019/', 'https://www.lemonde.fr/archives-du-monde/15-05-2019/', 'https://www.lemonde.fr/archives-du-monde/16-05-2019/', 'https://www.lemonde.fr/archives-du-monde/17-05-2019/', 'https://www.lemonde.fr/archives-du-monde/18-05-2019/', 'https://www.lemonde.fr/archives-du-monde/19-05-2019/', 'https://www.lemonde.fr/archives-du-monde/20-05-2019/', 'https://www.lemonde.fr/archives-du-monde/21-05-2019/', 'https://www.lemonde.fr/archives-du-monde/22-05-2019/', 'https://www.lemonde.fr/archives-du-monde/23-05-2019/', 'https://www.lemonde.fr/archives-du-monde/24-05-2019/', 'https://www.lemonde.fr/archives-du-monde/25-05-2019/', 'https://www.lemonde.fr/archives-du-monde/26-05-2019/', 'https://www.lemonde.fr/archives-du-monde/27-05-2019/', 'https://www.lemonde.fr/archives-du-monde/28-05-2019/', 'https://www.lemonde.fr/archives-du-monde/29-05-2019/', 'https://www.lemonde.fr/archives-du-monde/30-05-2019/', 'https://www.lemonde.fr/archives-du-monde/31-05-2019/', 'https://www.lemonde.fr/archives-du-monde/01-06-2019/', 'https://www.lemonde.fr/archives-du-monde/02-06-2019/', 'https://www.lemonde.fr/archives-du-monde/03-06-2019/', 'https://www.lemonde.fr/archives-du-monde/04-06-2019/', 'https://www.lemonde.fr/archives-du-monde/05-06-2019/', 'https://www.lemonde.fr/archives-du-monde/06-06-2019/', 'https://www.lemonde.fr/archives-du-monde/07-06-2019/', 'https://www.lemonde.fr/archives-du-monde/08-06-2019/', 'https://www.lemonde.fr/archives-du-monde/09-06-2019/', 'https://www.lemonde.fr/archives-du-monde/10-06-2019/', 'https://www.lemonde.fr/archives-du-monde/11-06-2019/', 'https://www.lemonde.fr/archives-du-monde/12-06-2019/', 'https://www.lemonde.fr/archives-du-monde/13-06-2019/', 'https://www.lemonde.fr/archives-du-monde/14-06-2019/', 'https://www.lemonde.fr/archives-du-monde/15-06-2019/', 'https://www.lemonde.fr/archives-du-monde/16-06-2019/', 'https://www.lemonde.fr/archives-du-monde/17-06-2019/', 'https://www.lemonde.fr/archives-du-monde/18-06-2019/', 'https://www.lemonde.fr/archives-du-monde/19-06-2019/', 'https://www.lemonde.fr/archives-du-monde/20-06-2019/', 'https://www.lemonde.fr/archives-du-monde/21-06-2019/', 'https://www.lemonde.fr/archives-du-monde/22-06-2019/', 'https://www.lemonde.fr/archives-du-monde/23-06-2019/', 'https://www.lemonde.fr/archives-du-monde/24-06-2019/', 'https://www.lemonde.fr/archives-du-monde/25-06-2019/', 'https://www.lemonde.fr/archives-du-monde/26-06-2019/', 'https://www.lemonde.fr/archives-du-monde/27-06-2019/', 'https://www.lemonde.fr/archives-du-monde/28-06-2019/', 'https://www.lemonde.fr/archives-du-monde/29-06-2019/', 'https://www.lemonde.fr/archives-du-monde/30-06-2019/', 'https://www.lemonde.fr/archives-du-monde/01-07-2019/', 'https://www.lemonde.fr/archives-du-monde/02-07-2019/', 'https://www.lemonde.fr/archives-du-monde/03-07-2019/', 'https://www.lemonde.fr/archives-du-monde/04-07-2019/', 'https://www.lemonde.fr/archives-du-monde/05-07-2019/', 'https://www.lemonde.fr/archives-du-monde/06-07-2019/', 'https://www.lemonde.fr/archives-du-monde/07-07-2019/', 'https://www.lemonde.fr/archives-du-monde/08-07-2019/', 'https://www.lemonde.fr/archives-du-monde/09-07-2019/', 'https://www.lemonde.fr/archives-du-monde/10-07-2019/', 'https://www.lemonde.fr/archives-du-monde/11-07-2019/', 'https://www.lemonde.fr/archives-du-monde/12-07-2019/', 'https://www.lemonde.fr/archives-du-monde/13-07-2019/', 'https://www.lemonde.fr/archives-du-monde/14-07-2019/', 'https://www.lemonde.fr/archives-du-monde/15-07-2019/', 'https://www.lemonde.fr/archives-du-monde/16-07-2019/', 'https://www.lemonde.fr/archives-du-monde/17-07-2019/', 'https://www.lemonde.fr/archives-du-monde/18-07-2019/', 'https://www.lemonde.fr/archives-du-monde/19-07-2019/', 'https://www.lemonde.fr/archives-du-monde/20-07-2019/', 'https://www.lemonde.fr/archives-du-monde/21-07-2019/', 'https://www.lemonde.fr/archives-du-monde/22-07-2019/', 'https://www.lemonde.fr/archives-du-monde/23-07-2019/', 'https://www.lemonde.fr/archives-du-monde/24-07-2019/', 'https://www.lemonde.fr/archives-du-monde/25-07-2019/', 'https://www.lemonde.fr/archives-du-monde/26-07-2019/', 'https://www.lemonde.fr/archives-du-monde/27-07-2019/', 'https://www.lemonde.fr/archives-du-monde/28-07-2019/', 'https://www.lemonde.fr/archives-du-monde/29-07-2019/', 'https://www.lemonde.fr/archives-du-monde/30-07-2019/', 'https://www.lemonde.fr/archives-du-monde/31-07-2019/', 'https://www.lemonde.fr/archives-du-monde/01-08-2019/', 'https://www.lemonde.fr/archives-du-monde/02-08-2019/', 'https://www.lemonde.fr/archives-du-monde/03-08-2019/', 'https://www.lemonde.fr/archives-du-monde/04-08-2019/', 'https://www.lemonde.fr/archives-du-monde/05-08-2019/', 'https://www.lemonde.fr/archives-du-monde/06-08-2019/', 'https://www.lemonde.fr/archives-du-monde/07-08-2019/', 'https://www.lemonde.fr/archives-du-monde/08-08-2019/', 'https://www.lemonde.fr/archives-du-monde/09-08-2019/', 'https://www.lemonde.fr/archives-du-monde/10-08-2019/', 'https://www.lemonde.fr/archives-du-monde/11-08-2019/', 'https://www.lemonde.fr/archives-du-monde/12-08-2019/', 'https://www.lemonde.fr/archives-du-monde/13-08-2019/', 'https://www.lemonde.fr/archives-du-monde/14-08-2019/', 'https://www.lemonde.fr/archives-du-monde/15-08-2019/', 'https://www.lemonde.fr/archives-du-monde/16-08-2019/', 'https://www.lemonde.fr/archives-du-monde/17-08-2019/', 'https://www.lemonde.fr/archives-du-monde/18-08-2019/', 'https://www.lemonde.fr/archives-du-monde/19-08-2019/', 'https://www.lemonde.fr/archives-du-monde/20-08-2019/', 'https://www.lemonde.fr/archives-du-monde/21-08-2019/', 'https://www.lemonde.fr/archives-du-monde/22-08-2019/', 'https://www.lemonde.fr/archives-du-monde/23-08-2019/', 'https://www.lemonde.fr/archives-du-monde/24-08-2019/', 'https://www.lemonde.fr/archives-du-monde/25-08-2019/', 'https://www.lemonde.fr/archives-du-monde/26-08-2019/', 'https://www.lemonde.fr/archives-du-monde/27-08-2019/', 'https://www.lemonde.fr/archives-du-monde/28-08-2019/', 'https://www.lemonde.fr/archives-du-monde/29-08-2019/', 'https://www.lemonde.fr/archives-du-monde/30-08-2019/', 'https://www.lemonde.fr/archives-du-monde/31-08-2019/', 'https://www.lemonde.fr/archives-du-monde/01-09-2019/', 'https://www.lemonde.fr/archives-du-monde/02-09-2019/', 'https://www.lemonde.fr/archives-du-monde/03-09-2019/', 'https://www.lemonde.fr/archives-du-monde/04-09-2019/', 'https://www.lemonde.fr/archives-du-monde/05-09-2019/', 'https://www.lemonde.fr/archives-du-monde/06-09-2019/', 'https://www.lemonde.fr/archives-du-monde/07-09-2019/', 'https://www.lemonde.fr/archives-du-monde/08-09-2019/', 'https://www.lemonde.fr/archives-du-monde/09-09-2019/', 'https://www.lemonde.fr/archives-du-monde/10-09-2019/', 'https://www.lemonde.fr/archives-du-monde/11-09-2019/', 'https://www.lemonde.fr/archives-du-monde/12-09-2019/', 'https://www.lemonde.fr/archives-du-monde/13-09-2019/', 'https://www.lemonde.fr/archives-du-monde/14-09-2019/', 'https://www.lemonde.fr/archives-du-monde/15-09-2019/', 'https://www.lemonde.fr/archives-du-monde/16-09-2019/', 'https://www.lemonde.fr/archives-du-monde/17-09-2019/', 'https://www.lemonde.fr/archives-du-monde/18-09-2019/', 'https://www.lemonde.fr/archives-du-monde/19-09-2019/', 'https://www.lemonde.fr/archives-du-monde/20-09-2019/', 'https://www.lemonde.fr/archives-du-monde/21-09-2019/', 'https://www.lemonde.fr/archives-du-monde/22-09-2019/', 'https://www.lemonde.fr/archives-du-monde/23-09-2019/', 'https://www.lemonde.fr/archives-du-monde/24-09-2019/', 'https://www.lemonde.fr/archives-du-monde/25-09-2019/', 'https://www.lemonde.fr/archives-du-monde/26-09-2019/', 'https://www.lemonde.fr/archives-du-monde/27-09-2019/', 'https://www.lemonde.fr/archives-du-monde/28-09-2019/', 'https://www.lemonde.fr/archives-du-monde/29-09-2019/', 'https://www.lemonde.fr/archives-du-monde/30-09-2019/', 'https://www.lemonde.fr/archives-du-monde/01-10-2019/', 'https://www.lemonde.fr/archives-du-monde/02-10-2019/', 'https://www.lemonde.fr/archives-du-monde/03-10-2019/', 'https://www.lemonde.fr/archives-du-monde/04-10-2019/', 'https://www.lemonde.fr/archives-du-monde/05-10-2019/', 'https://www.lemonde.fr/archives-du-monde/06-10-2019/', 'https://www.lemonde.fr/archives-du-monde/07-10-2019/', 'https://www.lemonde.fr/archives-du-monde/08-10-2019/', 'https://www.lemonde.fr/archives-du-monde/09-10-2019/', 'https://www.lemonde.fr/archives-du-monde/10-10-2019/', 'https://www.lemonde.fr/archives-du-monde/11-10-2019/', 'https://www.lemonde.fr/archives-du-monde/12-10-2019/', 'https://www.lemonde.fr/archives-du-monde/13-10-2019/', 'https://www.lemonde.fr/archives-du-monde/14-10-2019/', 'https://www.lemonde.fr/archives-du-monde/15-10-2019/', 'https://www.lemonde.fr/archives-du-monde/16-10-2019/', 'https://www.lemonde.fr/archives-du-monde/17-10-2019/', 'https://www.lemonde.fr/archives-du-monde/18-10-2019/', 'https://www.lemonde.fr/archives-du-monde/19-10-2019/', 'https://www.lemonde.fr/archives-du-monde/20-10-2019/', 'https://www.lemonde.fr/archives-du-monde/21-10-2019/', 'https://www.lemonde.fr/archives-du-monde/22-10-2019/', 'https://www.lemonde.fr/archives-du-monde/23-10-2019/', 'https://www.lemonde.fr/archives-du-monde/24-10-2019/', 'https://www.lemonde.fr/archives-du-monde/25-10-2019/', 'https://www.lemonde.fr/archives-du-monde/26-10-2019/', 'https://www.lemonde.fr/archives-du-monde/27-10-2019/', 'https://www.lemonde.fr/archives-du-monde/28-10-2019/', 'https://www.lemonde.fr/archives-du-monde/29-10-2019/', 'https://www.lemonde.fr/archives-du-monde/30-10-2019/', 'https://www.lemonde.fr/archives-du-monde/31-10-2019/', 'https://www.lemonde.fr/archives-du-monde/01-11-2019/', 'https://www.lemonde.fr/archives-du-monde/02-11-2019/', 'https://www.lemonde.fr/archives-du-monde/03-11-2019/', 'https://www.lemonde.fr/archives-du-monde/04-11-2019/', 'https://www.lemonde.fr/archives-du-monde/05-11-2019/', 'https://www.lemonde.fr/archives-du-monde/06-11-2019/', 'https://www.lemonde.fr/archives-du-monde/07-11-2019/', 'https://www.lemonde.fr/archives-du-monde/08-11-2019/', 'https://www.lemonde.fr/archives-du-monde/09-11-2019/', 'https://www.lemonde.fr/archives-du-monde/10-11-2019/', 'https://www.lemonde.fr/archives-du-monde/11-11-2019/', 'https://www.lemonde.fr/archives-du-monde/12-11-2019/', 'https://www.lemonde.fr/archives-du-monde/13-11-2019/', 'https://www.lemonde.fr/archives-du-monde/14-11-2019/', 'https://www.lemonde.fr/archives-du-monde/15-11-2019/', 'https://www.lemonde.fr/archives-du-monde/16-11-2019/', 'https://www.lemonde.fr/archives-du-monde/17-11-2019/', 'https://www.lemonde.fr/archives-du-monde/18-11-2019/', 'https://www.lemonde.fr/archives-du-monde/19-11-2019/', 'https://www.lemonde.fr/archives-du-monde/20-11-2019/', 'https://www.lemonde.fr/archives-du-monde/21-11-2019/', 'https://www.lemonde.fr/archives-du-monde/22-11-2019/', 'https://www.lemonde.fr/archives-du-monde/23-11-2019/', 'https://www.lemonde.fr/archives-du-monde/24-11-2019/', 'https://www.lemonde.fr/archives-du-monde/25-11-2019/', 'https://www.lemonde.fr/archives-du-monde/26-11-2019/', 'https://www.lemonde.fr/archives-du-monde/27-11-2019/', 'https://www.lemonde.fr/archives-du-monde/28-11-2019/', 'https://www.lemonde.fr/archives-du-monde/29-11-2019/', 'https://www.lemonde.fr/archives-du-monde/30-11-2019/', 'https://www.lemonde.fr/archives-du-monde/01-12-2019/', 'https://www.lemonde.fr/archives-du-monde/02-12-2019/', 'https://www.lemonde.fr/archives-du-monde/03-12-2019/', 'https://www.lemonde.fr/archives-du-monde/04-12-2019/', 'https://www.lemonde.fr/archives-du-monde/05-12-2019/', 'https://www.lemonde.fr/archives-du-monde/06-12-2019/', 'https://www.lemonde.fr/archives-du-monde/07-12-2019/', 'https://www.lemonde.fr/archives-du-monde/08-12-2019/', 'https://www.lemonde.fr/archives-du-monde/09-12-2019/', 'https://www.lemonde.fr/archives-du-monde/10-12-2019/', 'https://www.lemonde.fr/archives-du-monde/11-12-2019/', 'https://www.lemonde.fr/archives-du-monde/12-12-2019/', 'https://www.lemonde.fr/archives-du-monde/13-12-2019/', 'https://www.lemonde.fr/archives-du-monde/14-12-2019/', 'https://www.lemonde.fr/archives-du-monde/15-12-2019/', 'https://www.lemonde.fr/archives-du-monde/16-12-2019/', 'https://www.lemonde.fr/archives-du-monde/17-12-2019/', 'https://www.lemonde.fr/archives-du-monde/18-12-2019/', 'https://www.lemonde.fr/archives-du-monde/19-12-2019/', 'https://www.lemonde.fr/archives-du-monde/20-12-2019/', 'https://www.lemonde.fr/archives-du-monde/21-12-2019/', 'https://www.lemonde.fr/archives-du-monde/22-12-2019/', 'https://www.lemonde.fr/archives-du-monde/23-12-2019/', 'https://www.lemonde.fr/archives-du-monde/24-12-2019/', 'https://www.lemonde.fr/archives-du-monde/25-12-2019/', 'https://www.lemonde.fr/archives-du-monde/26-12-2019/', 'https://www.lemonde.fr/archives-du-monde/27-12-2019/', 'https://www.lemonde.fr/archives-du-monde/28-12-2019/', 'https://www.lemonde.fr/archives-du-monde/29-12-2019/', 'https://www.lemonde.fr/archives-du-monde/30-12-2019/', 'https://www.lemonde.fr/archives-du-monde/31-12-2019/', 'https://www.lemonde.fr/archives-du-monde/01-01-2020/', 'https://www.lemonde.fr/archives-du-monde/02-01-2020/', 'https://www.lemonde.fr/archives-du-monde/03-01-2020/', 'https://www.lemonde.fr/archives-du-monde/04-01-2020/', 'https://www.lemonde.fr/archives-du-monde/05-01-2020/', 'https://www.lemonde.fr/archives-du-monde/06-01-2020/', 'https://www.lemonde.fr/archives-du-monde/07-01-2020/', 'https://www.lemonde.fr/archives-du-monde/08-01-2020/', 'https://www.lemonde.fr/archives-du-monde/09-01-2020/', 'https://www.lemonde.fr/archives-du-monde/10-01-2020/', 'https://www.lemonde.fr/archives-du-monde/11-01-2020/', 'https://www.lemonde.fr/archives-du-monde/12-01-2020/', 'https://www.lemonde.fr/archives-du-monde/13-01-2020/', 'https://www.lemonde.fr/archives-du-monde/14-01-2020/', 'https://www.lemonde.fr/archives-du-monde/15-01-2020/', 'https://www.lemonde.fr/archives-du-monde/16-01-2020/', 'https://www.lemonde.fr/archives-du-monde/17-01-2020/', 'https://www.lemonde.fr/archives-du-monde/18-01-2020/', 'https://www.lemonde.fr/archives-du-monde/19-01-2020/', 'https://www.lemonde.fr/archives-du-monde/20-01-2020/', 'https://www.lemonde.fr/archives-du-monde/21-01-2020/', 'https://www.lemonde.fr/archives-du-monde/22-01-2020/', 'https://www.lemonde.fr/archives-du-monde/23-01-2020/', 'https://www.lemonde.fr/archives-du-monde/24-01-2020/', 'https://www.lemonde.fr/archives-du-monde/25-01-2020/', 'https://www.lemonde.fr/archives-du-monde/26-01-2020/', 'https://www.lemonde.fr/archives-du-monde/27-01-2020/', 'https://www.lemonde.fr/archives-du-monde/28-01-2020/', 'https://www.lemonde.fr/archives-du-monde/29-01-2020/', 'https://www.lemonde.fr/archives-du-monde/30-01-2020/', 'https://www.lemonde.fr/archives-du-monde/31-01-2020/', 'https://www.lemonde.fr/archives-du-monde/01-02-2020/', 'https://www.lemonde.fr/archives-du-monde/02-02-2020/', 'https://www.lemonde.fr/archives-du-monde/03-02-2020/', 'https://www.lemonde.fr/archives-du-monde/04-02-2020/', 'https://www.lemonde.fr/archives-du-monde/05-02-2020/', 'https://www.lemonde.fr/archives-du-monde/06-02-2020/', 'https://www.lemonde.fr/archives-du-monde/07-02-2020/', 'https://www.lemonde.fr/archives-du-monde/08-02-2020/', 'https://www.lemonde.fr/archives-du-monde/09-02-2020/', 'https://www.lemonde.fr/archives-du-monde/10-02-2020/', 'https://www.lemonde.fr/archives-du-monde/11-02-2020/', 'https://www.lemonde.fr/archives-du-monde/12-02-2020/', 'https://www.lemonde.fr/archives-du-monde/13-02-2020/', 'https://www.lemonde.fr/archives-du-monde/14-02-2020/', 'https://www.lemonde.fr/archives-du-monde/15-02-2020/', 'https://www.lemonde.fr/archives-du-monde/16-02-2020/', 'https://www.lemonde.fr/archives-du-monde/17-02-2020/', 'https://www.lemonde.fr/archives-du-monde/18-02-2020/', 'https://www.lemonde.fr/archives-du-monde/19-02-2020/', 'https://www.lemonde.fr/archives-du-monde/20-02-2020/', 'https://www.lemonde.fr/archives-du-monde/21-02-2020/', 'https://www.lemonde.fr/archives-du-monde/22-02-2020/', 'https://www.lemonde.fr/archives-du-monde/23-02-2020/', 'https://www.lemonde.fr/archives-du-monde/24-02-2020/', 'https://www.lemonde.fr/archives-du-monde/25-02-2020/', 'https://www.lemonde.fr/archives-du-monde/26-02-2020/', 'https://www.lemonde.fr/archives-du-monde/27-02-2020/', 'https://www.lemonde.fr/archives-du-monde/28-02-2020/', 'https://www.lemonde.fr/archives-du-monde/29-02-2020/', 'https://www.lemonde.fr/archives-du-monde/01-03-2020/', 'https://www.lemonde.fr/archives-du-monde/02-03-2020/', 'https://www.lemonde.fr/archives-du-monde/03-03-2020/', 'https://www.lemonde.fr/archives-du-monde/04-03-2020/', 'https://www.lemonde.fr/archives-du-monde/05-03-2020/', 'https://www.lemonde.fr/archives-du-monde/06-03-2020/', 'https://www.lemonde.fr/archives-du-monde/07-03-2020/', 'https://www.lemonde.fr/archives-du-monde/08-03-2020/', 'https://www.lemonde.fr/archives-du-monde/09-03-2020/', 'https://www.lemonde.fr/archives-du-monde/10-03-2020/', 'https://www.lemonde.fr/archives-du-monde/11-03-2020/', 'https://www.lemonde.fr/archives-du-monde/12-03-2020/', 'https://www.lemonde.fr/archives-du-monde/13-03-2020/', 'https://www.lemonde.fr/archives-du-monde/14-03-2020/', 'https://www.lemonde.fr/archives-du-monde/15-03-2020/', 'https://www.lemonde.fr/archives-du-monde/16-03-2020/', 'https://www.lemonde.fr/archives-du-monde/17-03-2020/', 'https://www.lemonde.fr/archives-du-monde/18-03-2020/', 'https://www.lemonde.fr/archives-du-monde/19-03-2020/', 'https://www.lemonde.fr/archives-du-monde/20-03-2020/', 'https://www.lemonde.fr/archives-du-monde/21-03-2020/', 'https://www.lemonde.fr/archives-du-monde/22-03-2020/', 'https://www.lemonde.fr/archives-du-monde/23-03-2020/', 'https://www.lemonde.fr/archives-du-monde/24-03-2020/', 'https://www.lemonde.fr/archives-du-monde/25-03-2020/', 'https://www.lemonde.fr/archives-du-monde/26-03-2020/', 'https://www.lemonde.fr/archives-du-monde/27-03-2020/', 'https://www.lemonde.fr/archives-du-monde/28-03-2020/', 'https://www.lemonde.fr/archives-du-monde/29-03-2020/', 'https://www.lemonde.fr/archives-du-monde/30-03-2020/', 'https://www.lemonde.fr/archives-du-monde/31-03-2020/', 'https://www.lemonde.fr/archives-du-monde/01-04-2020/', 'https://www.lemonde.fr/archives-du-monde/02-04-2020/', 'https://www.lemonde.fr/archives-du-monde/03-04-2020/', 'https://www.lemonde.fr/archives-du-monde/04-04-2020/', 'https://www.lemonde.fr/archives-du-monde/05-04-2020/', 'https://www.lemonde.fr/archives-du-monde/06-04-2020/', 'https://www.lemonde.fr/archives-du-monde/07-04-2020/', 'https://www.lemonde.fr/archives-du-monde/08-04-2020/', 'https://www.lemonde.fr/archives-du-monde/09-04-2020/', 'https://www.lemonde.fr/archives-du-monde/10-04-2020/', 'https://www.lemonde.fr/archives-du-monde/11-04-2020/', 'https://www.lemonde.fr/archives-du-monde/12-04-2020/', 'https://www.lemonde.fr/archives-du-monde/13-04-2020/', 'https://www.lemonde.fr/archives-du-monde/14-04-2020/', 'https://www.lemonde.fr/archives-du-monde/15-04-2020/', 'https://www.lemonde.fr/archives-du-monde/16-04-2020/', 'https://www.lemonde.fr/archives-du-monde/17-04-2020/', 'https://www.lemonde.fr/archives-du-monde/18-04-2020/', 'https://www.lemonde.fr/archives-du-monde/19-04-2020/', 'https://www.lemonde.fr/archives-du-monde/20-04-2020/', 'https://www.lemonde.fr/archives-du-monde/21-04-2020/', 'https://www.lemonde.fr/archives-du-monde/22-04-2020/', 'https://www.lemonde.fr/archives-du-monde/23-04-2020/', 'https://www.lemonde.fr/archives-du-monde/24-04-2020/', 'https://www.lemonde.fr/archives-du-monde/25-04-2020/', 'https://www.lemonde.fr/archives-du-monde/26-04-2020/', 'https://www.lemonde.fr/archives-du-monde/27-04-2020/', 'https://www.lemonde.fr/archives-du-monde/28-04-2020/', 'https://www.lemonde.fr/archives-du-monde/29-04-2020/', 'https://www.lemonde.fr/archives-du-monde/30-04-2020/', 'https://www.lemonde.fr/archives-du-monde/01-05-2020/', 'https://www.lemonde.fr/archives-du-monde/02-05-2020/', 'https://www.lemonde.fr/archives-du-monde/03-05-2020/', 'https://www.lemonde.fr/archives-du-monde/04-05-2020/', 'https://www.lemonde.fr/archives-du-monde/05-05-2020/', 'https://www.lemonde.fr/archives-du-monde/06-05-2020/', 'https://www.lemonde.fr/archives-du-monde/07-05-2020/', 'https://www.lemonde.fr/archives-du-monde/08-05-2020/', 'https://www.lemonde.fr/archives-du-monde/09-05-2020/', 'https://www.lemonde.fr/archives-du-monde/10-05-2020/', 'https://www.lemonde.fr/archives-du-monde/11-05-2020/', 'https://www.lemonde.fr/archives-du-monde/12-05-2020/', 'https://www.lemonde.fr/archives-du-monde/13-05-2020/', 'https://www.lemonde.fr/archives-du-monde/14-05-2020/', 'https://www.lemonde.fr/archives-du-monde/15-05-2020/', 'https://www.lemonde.fr/archives-du-monde/16-05-2020/', 'https://www.lemonde.fr/archives-du-monde/17-05-2020/', 'https://www.lemonde.fr/archives-du-monde/18-05-2020/', 'https://www.lemonde.fr/archives-du-monde/19-05-2020/', 'https://www.lemonde.fr/archives-du-monde/20-05-2020/', 'https://www.lemonde.fr/archives-du-monde/21-05-2020/', 'https://www.lemonde.fr/archives-du-monde/22-05-2020/', 'https://www.lemonde.fr/archives-du-monde/23-05-2020/', 'https://www.lemonde.fr/archives-du-monde/24-05-2020/', 'https://www.lemonde.fr/archives-du-monde/25-05-2020/', 'https://www.lemonde.fr/archives-du-monde/26-05-2020/', 'https://www.lemonde.fr/archives-du-monde/27-05-2020/', 'https://www.lemonde.fr/archives-du-monde/28-05-2020/', 'https://www.lemonde.fr/archives-du-monde/29-05-2020/', 'https://www.lemonde.fr/archives-du-monde/30-05-2020/', 'https://www.lemonde.fr/archives-du-monde/31-05-2020/', 'https://www.lemonde.fr/archives-du-monde/01-06-2020/', 'https://www.lemonde.fr/archives-du-monde/02-06-2020/', 'https://www.lemonde.fr/archives-du-monde/03-06-2020/', 'https://www.lemonde.fr/archives-du-monde/04-06-2020/', 'https://www.lemonde.fr/archives-du-monde/05-06-2020/', 'https://www.lemonde.fr/archives-du-monde/06-06-2020/', 'https://www.lemonde.fr/archives-du-monde/07-06-2020/', 'https://www.lemonde.fr/archives-du-monde/08-06-2020/', 'https://www.lemonde.fr/archives-du-monde/09-06-2020/', 'https://www.lemonde.fr/archives-du-monde/10-06-2020/', 'https://www.lemonde.fr/archives-du-monde/11-06-2020/', 'https://www.lemonde.fr/archives-du-monde/12-06-2020/', 'https://www.lemonde.fr/archives-du-monde/13-06-2020/', 'https://www.lemonde.fr/archives-du-monde/14-06-2020/', 'https://www.lemonde.fr/archives-du-monde/15-06-2020/', 'https://www.lemonde.fr/archives-du-monde/16-06-2020/', 'https://www.lemonde.fr/archives-du-monde/17-06-2020/', 'https://www.lemonde.fr/archives-du-monde/18-06-2020/', 'https://www.lemonde.fr/archives-du-monde/19-06-2020/', 'https://www.lemonde.fr/archives-du-monde/20-06-2020/', 'https://www.lemonde.fr/archives-du-monde/21-06-2020/', 'https://www.lemonde.fr/archives-du-monde/22-06-2020/', 'https://www.lemonde.fr/archives-du-monde/23-06-2020/', 'https://www.lemonde.fr/archives-du-monde/24-06-2020/', 'https://www.lemonde.fr/archives-du-monde/25-06-2020/', 'https://www.lemonde.fr/archives-du-monde/26-06-2020/', 'https://www.lemonde.fr/archives-du-monde/27-06-2020/', 'https://www.lemonde.fr/archives-du-monde/28-06-2020/', 'https://www.lemonde.fr/archives-du-monde/29-06-2020/', 'https://www.lemonde.fr/archives-du-monde/30-06-2020/', 'https://www.lemonde.fr/archives-du-monde/01-07-2020/', 'https://www.lemonde.fr/archives-du-monde/02-07-2020/', 'https://www.lemonde.fr/archives-du-monde/03-07-2020/', 'https://www.lemonde.fr/archives-du-monde/04-07-2020/', 'https://www.lemonde.fr/archives-du-monde/05-07-2020/', 'https://www.lemonde.fr/archives-du-monde/06-07-2020/', 'https://www.lemonde.fr/archives-du-monde/07-07-2020/', 'https://www.lemonde.fr/archives-du-monde/08-07-2020/', 'https://www.lemonde.fr/archives-du-monde/09-07-2020/', 'https://www.lemonde.fr/archives-du-monde/10-07-2020/', 'https://www.lemonde.fr/archives-du-monde/11-07-2020/', 'https://www.lemonde.fr/archives-du-monde/12-07-2020/', 'https://www.lemonde.fr/archives-du-monde/13-07-2020/', 'https://www.lemonde.fr/archives-du-monde/14-07-2020/', 'https://www.lemonde.fr/archives-du-monde/15-07-2020/', 'https://www.lemonde.fr/archives-du-monde/16-07-2020/', 'https://www.lemonde.fr/archives-du-monde/17-07-2020/', 'https://www.lemonde.fr/archives-du-monde/18-07-2020/', 'https://www.lemonde.fr/archives-du-monde/19-07-2020/', 'https://www.lemonde.fr/archives-du-monde/20-07-2020/', 'https://www.lemonde.fr/archives-du-monde/21-07-2020/', 'https://www.lemonde.fr/archives-du-monde/22-07-2020/', 'https://www.lemonde.fr/archives-du-monde/23-07-2020/', 'https://www.lemonde.fr/archives-du-monde/24-07-2020/', 'https://www.lemonde.fr/archives-du-monde/25-07-2020/', 'https://www.lemonde.fr/archives-du-monde/26-07-2020/', 'https://www.lemonde.fr/archives-du-monde/27-07-2020/', 'https://www.lemonde.fr/archives-du-monde/28-07-2020/', 'https://www.lemonde.fr/archives-du-monde/29-07-2020/', 'https://www.lemonde.fr/archives-du-monde/30-07-2020/', 'https://www.lemonde.fr/archives-du-monde/31-07-2020/', 'https://www.lemonde.fr/archives-du-monde/01-08-2020/', 'https://www.lemonde.fr/archives-du-monde/02-08-2020/', 'https://www.lemonde.fr/archives-du-monde/03-08-2020/', 'https://www.lemonde.fr/archives-du-monde/04-08-2020/', 'https://www.lemonde.fr/archives-du-monde/05-08-2020/', 'https://www.lemonde.fr/archives-du-monde/06-08-2020/', 'https://www.lemonde.fr/archives-du-monde/07-08-2020/', 'https://www.lemonde.fr/archives-du-monde/08-08-2020/', 'https://www.lemonde.fr/archives-du-monde/09-08-2020/', 'https://www.lemonde.fr/archives-du-monde/10-08-2020/', 'https://www.lemonde.fr/archives-du-monde/11-08-2020/', 'https://www.lemonde.fr/archives-du-monde/12-08-2020/', 'https://www.lemonde.fr/archives-du-monde/13-08-2020/', 'https://www.lemonde.fr/archives-du-monde/14-08-2020/', 'https://www.lemonde.fr/archives-du-monde/15-08-2020/', 'https://www.lemonde.fr/archives-du-monde/16-08-2020/', 'https://www.lemonde.fr/archives-du-monde/17-08-2020/', 'https://www.lemonde.fr/archives-du-monde/18-08-2020/', 'https://www.lemonde.fr/archives-du-monde/19-08-2020/', 'https://www.lemonde.fr/archives-du-monde/20-08-2020/', 'https://www.lemonde.fr/archives-du-monde/21-08-2020/', 'https://www.lemonde.fr/archives-du-monde/22-08-2020/', 'https://www.lemonde.fr/archives-du-monde/23-08-2020/', 'https://www.lemonde.fr/archives-du-monde/24-08-2020/', 'https://www.lemonde.fr/archives-du-monde/25-08-2020/', 'https://www.lemonde.fr/archives-du-monde/26-08-2020/', 'https://www.lemonde.fr/archives-du-monde/27-08-2020/', 'https://www.lemonde.fr/archives-du-monde/28-08-2020/', 'https://www.lemonde.fr/archives-du-monde/29-08-2020/', 'https://www.lemonde.fr/archives-du-monde/30-08-2020/', 'https://www.lemonde.fr/archives-du-monde/31-08-2020/', 'https://www.lemonde.fr/archives-du-monde/01-09-2020/', 'https://www.lemonde.fr/archives-du-monde/02-09-2020/', 'https://www.lemonde.fr/archives-du-monde/03-09-2020/', 'https://www.lemonde.fr/archives-du-monde/04-09-2020/', 'https://www.lemonde.fr/archives-du-monde/05-09-2020/', 'https://www.lemonde.fr/archives-du-monde/06-09-2020/', 'https://www.lemonde.fr/archives-du-monde/07-09-2020/', 'https://www.lemonde.fr/archives-du-monde/08-09-2020/', 'https://www.lemonde.fr/archives-du-monde/09-09-2020/', 'https://www.lemonde.fr/archives-du-monde/10-09-2020/', 'https://www.lemonde.fr/archives-du-monde/11-09-2020/', 'https://www.lemonde.fr/archives-du-monde/12-09-2020/', 'https://www.lemonde.fr/archives-du-monde/13-09-2020/', 'https://www.lemonde.fr/archives-du-monde/14-09-2020/', 'https://www.lemonde.fr/archives-du-monde/15-09-2020/', 'https://www.lemonde.fr/archives-du-monde/16-09-2020/', 'https://www.lemonde.fr/archives-du-monde/17-09-2020/', 'https://www.lemonde.fr/archives-du-monde/18-09-2020/', 'https://www.lemonde.fr/archives-du-monde/19-09-2020/', 'https://www.lemonde.fr/archives-du-monde/20-09-2020/', 'https://www.lemonde.fr/archives-du-monde/21-09-2020/', 'https://www.lemonde.fr/archives-du-monde/22-09-2020/', 'https://www.lemonde.fr/archives-du-monde/23-09-2020/', 'https://www.lemonde.fr/archives-du-monde/24-09-2020/', 'https://www.lemonde.fr/archives-du-monde/25-09-2020/', 'https://www.lemonde.fr/archives-du-monde/26-09-2020/', 'https://www.lemonde.fr/archives-du-monde/27-09-2020/', 'https://www.lemonde.fr/archives-du-monde/28-09-2020/', 'https://www.lemonde.fr/archives-du-monde/29-09-2020/', 'https://www.lemonde.fr/archives-du-monde/30-09-2020/', 'https://www.lemonde.fr/archives-du-monde/01-10-2020/', 'https://www.lemonde.fr/archives-du-monde/02-10-2020/', 'https://www.lemonde.fr/archives-du-monde/03-10-2020/', 'https://www.lemonde.fr/archives-du-monde/04-10-2020/', 'https://www.lemonde.fr/archives-du-monde/05-10-2020/', 'https://www.lemonde.fr/archives-du-monde/06-10-2020/', 'https://www.lemonde.fr/archives-du-monde/07-10-2020/', 'https://www.lemonde.fr/archives-du-monde/08-10-2020/', 'https://www.lemonde.fr/archives-du-monde/09-10-2020/', 'https://www.lemonde.fr/archives-du-monde/10-10-2020/', 'https://www.lemonde.fr/archives-du-monde/11-10-2020/', 'https://www.lemonde.fr/archives-du-monde/12-10-2020/', 'https://www.lemonde.fr/archives-du-monde/13-10-2020/', 'https://www.lemonde.fr/archives-du-monde/14-10-2020/', 'https://www.lemonde.fr/archives-du-monde/15-10-2020/', 'https://www.lemonde.fr/archives-du-monde/16-10-2020/', 'https://www.lemonde.fr/archives-du-monde/17-10-2020/', 'https://www.lemonde.fr/archives-du-monde/18-10-2020/', 'https://www.lemonde.fr/archives-du-monde/19-10-2020/', 'https://www.lemonde.fr/archives-du-monde/20-10-2020/', 'https://www.lemonde.fr/archives-du-monde/21-10-2020/', 'https://www.lemonde.fr/archives-du-monde/22-10-2020/', 'https://www.lemonde.fr/archives-du-monde/23-10-2020/', 'https://www.lemonde.fr/archives-du-monde/24-10-2020/', 'https://www.lemonde.fr/archives-du-monde/25-10-2020/', 'https://www.lemonde.fr/archives-du-monde/26-10-2020/', 'https://www.lemonde.fr/archives-du-monde/27-10-2020/', 'https://www.lemonde.fr/archives-du-monde/28-10-2020/', 'https://www.lemonde.fr/archives-du-monde/29-10-2020/', 'https://www.lemonde.fr/archives-du-monde/30-10-2020/', 'https://www.lemonde.fr/archives-du-monde/31-10-2020/', 'https://www.lemonde.fr/archives-du-monde/01-11-2020/', 'https://www.lemonde.fr/archives-du-monde/02-11-2020/', 'https://www.lemonde.fr/archives-du-monde/03-11-2020/', 'https://www.lemonde.fr/archives-du-monde/04-11-2020/', 'https://www.lemonde.fr/archives-du-monde/05-11-2020/', 'https://www.lemonde.fr/archives-du-monde/06-11-2020/', 'https://www.lemonde.fr/archives-du-monde/07-11-2020/', 'https://www.lemonde.fr/archives-du-monde/08-11-2020/', 'https://www.lemonde.fr/archives-du-monde/09-11-2020/']\n"
     ]
    }
   ],
   "source": [
    "liste_url = []\n",
    "\n",
    "for date in new_df_time:\n",
    "    url = 'https://www.lemonde.fr/archives-du-monde/' + date + str('/')\n",
    "    liste_url.append(url)\n",
    "    \n",
    "print(liste_url) "
   ]
  },
  {
   "cell_type": "code",
   "execution_count": 10,
   "metadata": {},
   "outputs": [],
   "source": [
    "for i in liste_url:\n",
    "    #print(i)\n",
    "    req_1 = urllib.request.Request(i,headers={'User-Agent': 'Mozilla/5.0'})\n",
    "    #print(req_1)\n",
    "    html_1 = urllib.request.urlopen(req_1).read()\n",
    "    #print(html_1)\n",
    "    soup = bs4.BeautifulSoup(html_1, \"lxml\")\n",
    "    #print(soup)\n"
   ]
  },
  {
   "cell_type": "code",
   "execution_count": 11,
   "metadata": {},
   "outputs": [],
   "source": [
    "#for i in liste_url:\n",
    " #   for item in soup.find('main', { 'role' : 'main'}).findAll('h3', {'class' : 'teaser__title'}): \n",
    "        #print(item, \"\\n-------\")"
   ]
  },
  {
   "cell_type": "code",
   "execution_count": 12,
   "metadata": {},
   "outputs": [],
   "source": [
    "liste_titres_le_monde = []\n",
    "for i in liste_url:\n",
    "    for item in soup.find('main', { 'role' : 'main'}).findAll('h3', {'class' : 'teaser__title'}): \n",
    "        if item.get(\"class\") :\n",
    "            liste_titres_le_monde.append(item.getText())\n",
    "            \n",
    "            \n",
    "#liste_titres_le_monde "
   ]
  },
  {
   "cell_type": "code",
   "execution_count": 13,
   "metadata": {},
   "outputs": [],
   "source": [
    "# on parse les headlines\n",
    "i = 0\n",
    "\n",
    "while i != len(liste_titres_le_monde):\n",
    "    liste_titres_le_monde[i] = liste_titres_le_monde[i].replace('\\n', '')\n",
    "    liste_titres_le_monde[i] = liste_titres_le_monde[i].replace('«', '')\n",
    "    liste_titres_le_monde[i] = liste_titres_le_monde[i].replace('»', '')\n",
    "    liste_titres_le_monde[i] = liste_titres_le_monde[i].replace('\\xa0', '')\n",
    "    i +=1\n",
    " \n",
    "    \n",
    "#print(liste_titres_le_monde)"
   ]
  },
  {
   "cell_type": "code",
   "execution_count": 14,
   "metadata": {},
   "outputs": [
    {
     "data": {
      "text/html": [
       "<div>\n",
       "<style scoped>\n",
       "    .dataframe tbody tr th:only-of-type {\n",
       "        vertical-align: middle;\n",
       "    }\n",
       "\n",
       "    .dataframe tbody tr th {\n",
       "        vertical-align: top;\n",
       "    }\n",
       "\n",
       "    .dataframe thead th {\n",
       "        text-align: right;\n",
       "    }\n",
       "</style>\n",
       "<table border=\"1\" class=\"dataframe\">\n",
       "  <thead>\n",
       "    <tr style=\"text-align: right;\">\n",
       "      <th></th>\n",
       "      <th>titres</th>\n",
       "    </tr>\n",
       "  </thead>\n",
       "  <tbody>\n",
       "    <tr>\n",
       "      <th>0</th>\n",
       "      <td>Joe Biden se met au travail pour lutter contre...</td>\n",
       "    </tr>\n",
       "    <tr>\n",
       "      <th>1</th>\n",
       "      <td>Au Conseil d’Etat, le gouvernement prié d’agir...</td>\n",
       "    </tr>\n",
       "    <tr>\n",
       "      <th>2</th>\n",
       "      <td>Scandale de la Dépakine: l’Agence du médicamen...</td>\n",
       "    </tr>\n",
       "    <tr>\n",
       "      <th>3</th>\n",
       "      <td>A Lyon, des travailleurs indépendants défilent...</td>\n",
       "    </tr>\n",
       "    <tr>\n",
       "      <th>4</th>\n",
       "      <td>Elections américaines: la poussée en trompe-l’...</td>\n",
       "    </tr>\n",
       "    <tr>\n",
       "      <th>...</th>\n",
       "      <td>...</td>\n",
       "    </tr>\n",
       "    <tr>\n",
       "      <th>41755</th>\n",
       "      <td>The American Elections: can Joe Biden turn rel...</td>\n",
       "    </tr>\n",
       "    <tr>\n",
       "      <th>41756</th>\n",
       "      <td>La fausse rumeur sur les cloches de Paris qui ...</td>\n",
       "    </tr>\n",
       "    <tr>\n",
       "      <th>41757</th>\n",
       "      <td>Le psychanalyste Moustapha Safouan est mort</td>\n",
       "    </tr>\n",
       "    <tr>\n",
       "      <th>41758</th>\n",
       "      <td>Confinement: à l’arrêt, l’élite féminine du ru...</td>\n",
       "    </tr>\n",
       "    <tr>\n",
       "      <th>41759</th>\n",
       "      <td>E-sport: un Français de18ans remporte untourno...</td>\n",
       "    </tr>\n",
       "  </tbody>\n",
       "</table>\n",
       "<p>41760 rows × 1 columns</p>\n",
       "</div>"
      ],
      "text/plain": [
       "                                                  titres\n",
       "0      Joe Biden se met au travail pour lutter contre...\n",
       "1      Au Conseil d’Etat, le gouvernement prié d’agir...\n",
       "2      Scandale de la Dépakine: l’Agence du médicamen...\n",
       "3      A Lyon, des travailleurs indépendants défilent...\n",
       "4      Elections américaines: la poussée en trompe-l’...\n",
       "...                                                  ...\n",
       "41755  The American Elections: can Joe Biden turn rel...\n",
       "41756  La fausse rumeur sur les cloches de Paris qui ...\n",
       "41757        Le psychanalyste Moustapha Safouan est mort\n",
       "41758  Confinement: à l’arrêt, l’élite féminine du ru...\n",
       "41759  E-sport: un Français de18ans remporte untourno...\n",
       "\n",
       "[41760 rows x 1 columns]"
      ]
     },
     "execution_count": 14,
     "metadata": {},
     "output_type": "execute_result"
    }
   ],
   "source": [
    "# Création d'un dataframe qui regroupe tous les titres de l'url : https://www.lemonde.fr/archives-du-monde/01-01-2018/\n",
    "\n",
    "df_titres_journaux = pd.DataFrame.from_dict( {\"titres\" : liste_titres_le_monde})\n",
    "df_titres_journaux"
   ]
  },
  {
   "cell_type": "code",
   "execution_count": 22,
   "metadata": {},
   "outputs": [
    {
     "data": {
      "text/plain": [
       "'Joe Biden se met au travail pour lutter contre la crise sanitaire en faisant fi des résistances de Trump'"
      ]
     },
     "execution_count": 22,
     "metadata": {},
     "output_type": "execute_result"
    }
   ],
   "source": [
    "df_titres_journaux.titres[0]"
   ]
  },
  {
   "cell_type": "code",
   "execution_count": 23,
   "metadata": {},
   "outputs": [],
   "source": [
    "df_titres_journaux.to_csv(r'C:\\Users\\utilisateur\\Desktop\\scraping_titres_journ\\titres_le_monde.csv')"
   ]
  },
  {
   "cell_type": "code",
   "execution_count": 19,
   "metadata": {},
   "outputs": [],
   "source": [
    "df_titres_journaux.to_csv(r'C:\\Users\\utilisateur\\Desktop\\scraping_titres_journ\\df_titres_le_monde_sans_index.csv', index = False)"
   ]
  }
 ],
 "metadata": {
  "kernelspec": {
   "display_name": "Python 3",
   "language": "python",
   "name": "python3"
  },
  "language_info": {
   "codemirror_mode": {
    "name": "ipython",
    "version": 3
   },
   "file_extension": ".py",
   "mimetype": "text/x-python",
   "name": "python",
   "nbconvert_exporter": "python",
   "pygments_lexer": "ipython3",
   "version": "3.8.3"
  }
 },
 "nbformat": 4,
 "nbformat_minor": 4
}
